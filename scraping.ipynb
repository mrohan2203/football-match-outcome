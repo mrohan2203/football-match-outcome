{
 "cells": [
  {
   "cell_type": "code",
   "execution_count": 1,
   "id": "c6bfd871-93e9-4146-bb46-97b54a7190a2",
   "metadata": {
    "ExecuteTime": {
     "end_time": "2024-03-05T23:10:47.663657Z",
     "start_time": "2024-03-05T23:10:47.541014Z"
    },
    "tags": []
   },
   "outputs": [],
   "source": [
    "import requests"
   ]
  },
  {
   "cell_type": "code",
   "execution_count": 2,
   "id": "9cd91fcb-43bd-426a-bea0-8fbf5f0c1aa2",
   "metadata": {
    "ExecuteTime": {
     "end_time": "2024-03-05T23:10:48.090717Z",
     "start_time": "2024-03-05T23:10:48.088022Z"
    },
    "tags": []
   },
   "outputs": [],
   "source": [
    "#the url of the page from which we want to scrap the data\n",
    "standings_url = \"https://fbref.com/en/comps/9/Premier-League-Stats\""
   ]
  },
  {
   "cell_type": "code",
   "execution_count": 3,
   "id": "bec03d7c-4415-4ff4-953b-dc016c5766e8",
   "metadata": {
    "ExecuteTime": {
     "end_time": "2024-03-05T23:10:48.744707Z",
     "start_time": "2024-03-05T23:10:48.608140Z"
    },
    "tags": []
   },
   "outputs": [],
   "source": [
    "#downloads the html of the page by sending request\n",
    "data = requests.get(standings_url)"
   ]
  },
  {
   "cell_type": "code",
   "execution_count": 5,
   "id": "1d27c8b1-6486-4dc0-bdd2-04e8ce3b1d20",
   "metadata": {
    "tags": []
   },
   "outputs": [],
   "source": [
    "#data.text gives us the entire information from the website as mentioned in the url"
   ]
  },
  {
   "cell_type": "code",
   "execution_count": 6,
   "id": "14317aec-652f-4a9b-9601-87e1fa33c277",
   "metadata": {
    "ExecuteTime": {
     "end_time": "2024-03-05T23:10:49.408165Z",
     "start_time": "2024-03-05T23:10:49.236518Z"
    },
    "tags": []
   },
   "outputs": [],
   "source": [
    "#for parsing html\n",
    "from bs4 import BeautifulSoup"
   ]
  },
  {
   "cell_type": "code",
   "execution_count": 7,
   "id": "8ff6d3f7-2fc0-40c5-98ee-687760f52810",
   "metadata": {
    "ExecuteTime": {
     "end_time": "2024-03-05T23:10:50.253126Z",
     "start_time": "2024-03-05T23:10:49.847309Z"
    },
    "tags": []
   },
   "outputs": [],
   "source": [
    "#we initially parse the data collected from the request\n",
    "soup = BeautifulSoup(data.text)\n",
    "#we search for the table whose class name contains 'table.stats_table'. we only need the first table\n",
    "standings_table = soup.select('table.stats_table')[0]\n",
    "#we need to collect the links for all the teams in the stats table\n",
    "#the select() function is very selective i.e., to choose a particular class of a tag. The find_all() picks all tags\n",
    "links = standings_table.find_all('a')\n",
    "#we need to extract the link from the anchor tag. The href attribute stores the link. So we search for the links in the tag.\n",
    "links = [l.get(\"href\") for l in links]\n",
    "#we only need the link of teams\n",
    "links = [l for l in links if '/squads/' in l]"
   ]
  },
  {
   "cell_type": "code",
   "execution_count": 8,
   "id": "a8f4cef8-4e0c-46ef-92be-8adfe5c9463a",
   "metadata": {
    "ExecuteTime": {
     "end_time": "2024-03-05T23:10:50.845966Z",
     "start_time": "2024-03-05T23:10:50.843474Z"
    },
    "tags": []
   },
   "outputs": [],
   "source": [
    "#we append the squad links to the initial website link\n",
    "team_urls = [f\"https://fbref.com{l}\" for l in links]"
   ]
  },
  {
   "cell_type": "code",
   "execution_count": 9,
   "id": "00bcc7a9-12f0-4b5c-addd-a3ad9aeef450",
   "metadata": {
    "tags": []
   },
   "outputs": [
    {
     "data": {
      "text/plain": [
       "['https://fbref.com/en/squads/18bb7c10/Arsenal-Stats',\n",
       " 'https://fbref.com/en/squads/822bd0ba/Liverpool-Stats',\n",
       " 'https://fbref.com/en/squads/b8fd03ef/Manchester-City-Stats',\n",
       " 'https://fbref.com/en/squads/8602292d/Aston-Villa-Stats',\n",
       " 'https://fbref.com/en/squads/361ca564/Tottenham-Hotspur-Stats',\n",
       " 'https://fbref.com/en/squads/b2b47a98/Newcastle-United-Stats',\n",
       " 'https://fbref.com/en/squads/19538871/Manchester-United-Stats',\n",
       " 'https://fbref.com/en/squads/7c21e445/West-Ham-United-Stats',\n",
       " 'https://fbref.com/en/squads/cff3d9bb/Chelsea-Stats',\n",
       " 'https://fbref.com/en/squads/d07537b9/Brighton-and-Hove-Albion-Stats',\n",
       " 'https://fbref.com/en/squads/8cec06e1/Wolverhampton-Wanderers-Stats',\n",
       " 'https://fbref.com/en/squads/fd962109/Fulham-Stats',\n",
       " 'https://fbref.com/en/squads/4ba7cbea/Bournemouth-Stats',\n",
       " 'https://fbref.com/en/squads/47c64c55/Crystal-Palace-Stats',\n",
       " 'https://fbref.com/en/squads/cd051869/Brentford-Stats',\n",
       " 'https://fbref.com/en/squads/d3fd31cc/Everton-Stats',\n",
       " 'https://fbref.com/en/squads/e4a775cb/Nottingham-Forest-Stats',\n",
       " 'https://fbref.com/en/squads/e297cd13/Luton-Town-Stats',\n",
       " 'https://fbref.com/en/squads/943e8050/Burnley-Stats',\n",
       " 'https://fbref.com/en/squads/1df6b87e/Sheffield-United-Stats']"
      ]
     },
     "execution_count": 9,
     "metadata": {},
     "output_type": "execute_result"
    }
   ],
   "source": [
    "team_urls"
   ]
  },
  {
   "cell_type": "code",
   "execution_count": 11,
   "id": "5557c836-8ad7-484a-9f97-01dde373b411",
   "metadata": {
    "tags": []
   },
   "outputs": [
    {
     "data": {
      "text/plain": [
       "'https://fbref.com/en/squads/18bb7c10/Arsenal-Stats'"
      ]
     },
     "execution_count": 11,
     "metadata": {},
     "output_type": "execute_result"
    }
   ],
   "source": [
    "#first team in the table - Arsenal\n",
    "team_urls[0]"
   ]
  },
  {
   "cell_type": "code",
   "execution_count": 13,
   "id": "b904d6a6-aa6d-4d0f-b42b-71a1a8e17a9c",
   "metadata": {
    "ExecuteTime": {
     "end_time": "2024-03-05T23:10:51.560099Z",
     "start_time": "2024-03-05T23:10:51.436616Z"
    },
    "tags": []
   },
   "outputs": [],
   "source": [
    "#get the html of the Arsenal page\n",
    "data = requests.get(team_urls[0])"
   ]
  },
  {
   "cell_type": "code",
   "execution_count": 14,
   "id": "b94ebf7c-e72c-4832-9b04-7bf7999814bb",
   "metadata": {
    "ExecuteTime": {
     "end_time": "2024-03-05T23:10:52.501520Z",
     "start_time": "2024-03-05T23:10:52.084628Z"
    },
    "tags": []
   },
   "outputs": [],
   "source": [
    "#we need to import only the 'Scores and Fixtures' table and convert it into a Pandas Dataframe\n",
    "import pandas as pd\n",
    "matches = pd.read_html(data.text, match=\"Scores & Fixtures\")[0]"
   ]
  },
  {
   "cell_type": "code",
   "execution_count": 15,
   "id": "fa927a12-0362-4a45-8d3c-803c32b8a3e0",
   "metadata": {
    "ExecuteTime": {
     "end_time": "2024-03-05T23:10:53.379503Z",
     "start_time": "2024-03-05T23:10:53.027758Z"
    },
    "tags": []
   },
   "outputs": [],
   "source": [
    "#we perform a similar function of extracting information from the link. This time, we're only looking for shooting stats\n",
    "soup = BeautifulSoup(data.text)\n",
    "links = soup.find_all('a')\n",
    "links = [l.get(\"href\") for l in links]\n",
    "links = [l for l in links if l and 'all_comps/shooting/' in l]"
   ]
  },
  {
   "cell_type": "code",
   "execution_count": 16,
   "id": "e09af8cb-3533-47f3-b4f8-22f36514eb72",
   "metadata": {
    "ExecuteTime": {
     "end_time": "2024-03-05T23:10:54.015719Z",
     "start_time": "2024-03-05T23:10:53.919588Z"
    },
    "tags": []
   },
   "outputs": [],
   "source": [
    "#append the link to the existing html page\n",
    "data = requests.get(f\"https://fbref.com{links[0]}\")"
   ]
  },
  {
   "cell_type": "code",
   "execution_count": 17,
   "id": "9ce95cd1-78e2-4411-a956-a74b43078262",
   "metadata": {
    "ExecuteTime": {
     "end_time": "2024-03-05T23:10:55.061496Z",
     "start_time": "2024-03-05T23:10:55.010581Z"
    },
    "tags": []
   },
   "outputs": [],
   "source": [
    "#to look for the link that directs to the shooting stats\n",
    "shooting = pd.read_html(data.text, match=\"Shooting\")[0]"
   ]
  },
  {
   "cell_type": "code",
   "execution_count": 18,
   "id": "3a442054-0312-4e21-a662-0c8145f848d1",
   "metadata": {
    "ExecuteTime": {
     "end_time": "2024-03-05T23:10:55.702082Z",
     "start_time": "2024-03-05T23:10:55.674462Z"
    },
    "tags": []
   },
   "outputs": [
    {
     "data": {
      "text/html": [
       "<div>\n",
       "<style scoped>\n",
       "    .dataframe tbody tr th:only-of-type {\n",
       "        vertical-align: middle;\n",
       "    }\n",
       "\n",
       "    .dataframe tbody tr th {\n",
       "        vertical-align: top;\n",
       "    }\n",
       "\n",
       "    .dataframe thead tr th {\n",
       "        text-align: left;\n",
       "    }\n",
       "</style>\n",
       "<table border=\"1\" class=\"dataframe\">\n",
       "  <thead>\n",
       "    <tr>\n",
       "      <th></th>\n",
       "      <th colspan=\"10\" halign=\"left\">For Arsenal</th>\n",
       "      <th>...</th>\n",
       "      <th colspan=\"4\" halign=\"left\">Standard</th>\n",
       "      <th colspan=\"5\" halign=\"left\">Expected</th>\n",
       "      <th>Unnamed: 25_level_0</th>\n",
       "    </tr>\n",
       "    <tr>\n",
       "      <th></th>\n",
       "      <th>Date</th>\n",
       "      <th>Time</th>\n",
       "      <th>Comp</th>\n",
       "      <th>Round</th>\n",
       "      <th>Day</th>\n",
       "      <th>Venue</th>\n",
       "      <th>Result</th>\n",
       "      <th>GF</th>\n",
       "      <th>GA</th>\n",
       "      <th>Opponent</th>\n",
       "      <th>...</th>\n",
       "      <th>Dist</th>\n",
       "      <th>FK</th>\n",
       "      <th>PK</th>\n",
       "      <th>PKatt</th>\n",
       "      <th>xG</th>\n",
       "      <th>npxG</th>\n",
       "      <th>npxG/Sh</th>\n",
       "      <th>G-xG</th>\n",
       "      <th>np:G-xG</th>\n",
       "      <th>Match Report</th>\n",
       "    </tr>\n",
       "  </thead>\n",
       "  <tbody>\n",
       "    <tr>\n",
       "      <th>0</th>\n",
       "      <td>2023-08-06</td>\n",
       "      <td>16:00</td>\n",
       "      <td>Community Shield</td>\n",
       "      <td>FA Community Shield</td>\n",
       "      <td>Sun</td>\n",
       "      <td>Neutral</td>\n",
       "      <td>D</td>\n",
       "      <td>1 (4)</td>\n",
       "      <td>1 (1)</td>\n",
       "      <td>Manchester City</td>\n",
       "      <td>...</td>\n",
       "      <td>NaN</td>\n",
       "      <td>NaN</td>\n",
       "      <td>0</td>\n",
       "      <td>0</td>\n",
       "      <td>NaN</td>\n",
       "      <td>NaN</td>\n",
       "      <td>NaN</td>\n",
       "      <td>NaN</td>\n",
       "      <td>NaN</td>\n",
       "      <td>Match Report</td>\n",
       "    </tr>\n",
       "    <tr>\n",
       "      <th>1</th>\n",
       "      <td>2023-08-12</td>\n",
       "      <td>12:30</td>\n",
       "      <td>Premier League</td>\n",
       "      <td>Matchweek 1</td>\n",
       "      <td>Sat</td>\n",
       "      <td>Home</td>\n",
       "      <td>W</td>\n",
       "      <td>2</td>\n",
       "      <td>1</td>\n",
       "      <td>Nott'ham Forest</td>\n",
       "      <td>...</td>\n",
       "      <td>19.1</td>\n",
       "      <td>0.0</td>\n",
       "      <td>0</td>\n",
       "      <td>0</td>\n",
       "      <td>0.8</td>\n",
       "      <td>0.8</td>\n",
       "      <td>0.06</td>\n",
       "      <td>1.2</td>\n",
       "      <td>1.2</td>\n",
       "      <td>Match Report</td>\n",
       "    </tr>\n",
       "    <tr>\n",
       "      <th>2</th>\n",
       "      <td>2023-08-21</td>\n",
       "      <td>20:00</td>\n",
       "      <td>Premier League</td>\n",
       "      <td>Matchweek 2</td>\n",
       "      <td>Mon</td>\n",
       "      <td>Away</td>\n",
       "      <td>W</td>\n",
       "      <td>1</td>\n",
       "      <td>0</td>\n",
       "      <td>Crystal Palace</td>\n",
       "      <td>...</td>\n",
       "      <td>16.4</td>\n",
       "      <td>0.0</td>\n",
       "      <td>1</td>\n",
       "      <td>1</td>\n",
       "      <td>2.0</td>\n",
       "      <td>1.2</td>\n",
       "      <td>0.09</td>\n",
       "      <td>-1.0</td>\n",
       "      <td>-1.2</td>\n",
       "      <td>Match Report</td>\n",
       "    </tr>\n",
       "    <tr>\n",
       "      <th>3</th>\n",
       "      <td>2023-08-26</td>\n",
       "      <td>15:00</td>\n",
       "      <td>Premier League</td>\n",
       "      <td>Matchweek 3</td>\n",
       "      <td>Sat</td>\n",
       "      <td>Home</td>\n",
       "      <td>D</td>\n",
       "      <td>2</td>\n",
       "      <td>2</td>\n",
       "      <td>Fulham</td>\n",
       "      <td>...</td>\n",
       "      <td>13.8</td>\n",
       "      <td>0.0</td>\n",
       "      <td>1</td>\n",
       "      <td>1</td>\n",
       "      <td>3.2</td>\n",
       "      <td>2.4</td>\n",
       "      <td>0.14</td>\n",
       "      <td>-1.2</td>\n",
       "      <td>-1.4</td>\n",
       "      <td>Match Report</td>\n",
       "    </tr>\n",
       "    <tr>\n",
       "      <th>4</th>\n",
       "      <td>2023-09-03</td>\n",
       "      <td>16:30</td>\n",
       "      <td>Premier League</td>\n",
       "      <td>Matchweek 4</td>\n",
       "      <td>Sun</td>\n",
       "      <td>Home</td>\n",
       "      <td>W</td>\n",
       "      <td>3</td>\n",
       "      <td>1</td>\n",
       "      <td>Manchester Utd</td>\n",
       "      <td>...</td>\n",
       "      <td>15.0</td>\n",
       "      <td>0.0</td>\n",
       "      <td>0</td>\n",
       "      <td>0</td>\n",
       "      <td>2.3</td>\n",
       "      <td>2.3</td>\n",
       "      <td>0.13</td>\n",
       "      <td>0.7</td>\n",
       "      <td>0.7</td>\n",
       "      <td>Match Report</td>\n",
       "    </tr>\n",
       "  </tbody>\n",
       "</table>\n",
       "<p>5 rows × 26 columns</p>\n",
       "</div>"
      ],
      "text/plain": [
       "  For Arsenal                                                              \\\n",
       "         Date   Time              Comp                Round  Day    Venue   \n",
       "0  2023-08-06  16:00  Community Shield  FA Community Shield  Sun  Neutral   \n",
       "1  2023-08-12  12:30    Premier League          Matchweek 1  Sat     Home   \n",
       "2  2023-08-21  20:00    Premier League          Matchweek 2  Mon     Away   \n",
       "3  2023-08-26  15:00    Premier League          Matchweek 3  Sat     Home   \n",
       "4  2023-09-03  16:30    Premier League          Matchweek 4  Sun     Home   \n",
       "\n",
       "                                         ... Standard               Expected  \\\n",
       "  Result     GF     GA         Opponent  ...     Dist   FK PK PKatt       xG   \n",
       "0      D  1 (4)  1 (1)  Manchester City  ...      NaN  NaN  0     0      NaN   \n",
       "1      W      2      1  Nott'ham Forest  ...     19.1  0.0  0     0      0.8   \n",
       "2      W      1      0   Crystal Palace  ...     16.4  0.0  1     1      2.0   \n",
       "3      D      2      2           Fulham  ...     13.8  0.0  1     1      3.2   \n",
       "4      W      3      1   Manchester Utd  ...     15.0  0.0  0     0      2.3   \n",
       "\n",
       "                            Unnamed: 25_level_0  \n",
       "  npxG npxG/Sh G-xG np:G-xG        Match Report  \n",
       "0  NaN     NaN  NaN     NaN        Match Report  \n",
       "1  0.8    0.06  1.2     1.2        Match Report  \n",
       "2  1.2    0.09 -1.0    -1.2        Match Report  \n",
       "3  2.4    0.14 -1.2    -1.4        Match Report  \n",
       "4  2.3    0.13  0.7     0.7        Match Report  \n",
       "\n",
       "[5 rows x 26 columns]"
      ]
     },
     "execution_count": 18,
     "metadata": {},
     "output_type": "execute_result"
    }
   ],
   "source": [
    "shooting.head()"
   ]
  },
  {
   "cell_type": "code",
   "execution_count": 19,
   "id": "0b024f3a-a0b3-4b53-8dbd-b5649f1326ac",
   "metadata": {
    "ExecuteTime": {
     "end_time": "2024-03-05T23:10:58.199714Z",
     "start_time": "2024-03-05T23:10:58.196998Z"
    },
    "tags": []
   },
   "outputs": [],
   "source": [
    "#dropping the top column\n",
    "shooting.columns = shooting.columns.droplevel()"
   ]
  },
  {
   "cell_type": "code",
   "execution_count": 20,
   "id": "ccac08ea-724c-4ea4-b4cb-615de33e167a",
   "metadata": {
    "ExecuteTime": {
     "end_time": "2024-03-05T23:10:58.927260Z",
     "start_time": "2024-03-05T23:10:58.921252Z"
    },
    "tags": []
   },
   "outputs": [],
   "source": [
    "#we merge the matches and shooting dataframes on 'Date' column\n",
    "team_data = matches.merge(shooting[[\"Date\", \"Sh\", \"SoT\", \"Dist\", \"FK\", \"PK\", \"PKatt\"]], on=\"Date\")"
   ]
  },
  {
   "cell_type": "code",
   "execution_count": 21,
   "id": "cb16fa23-bf93-40fc-a479-f9ae4114f2ac",
   "metadata": {
    "ExecuteTime": {
     "end_time": "2024-03-05T23:10:59.596833Z",
     "start_time": "2024-03-05T23:10:59.580541Z"
    },
    "tags": []
   },
   "outputs": [
    {
     "data": {
      "text/html": [
       "<div>\n",
       "<style scoped>\n",
       "    .dataframe tbody tr th:only-of-type {\n",
       "        vertical-align: middle;\n",
       "    }\n",
       "\n",
       "    .dataframe tbody tr th {\n",
       "        vertical-align: top;\n",
       "    }\n",
       "\n",
       "    .dataframe thead th {\n",
       "        text-align: right;\n",
       "    }\n",
       "</style>\n",
       "<table border=\"1\" class=\"dataframe\">\n",
       "  <thead>\n",
       "    <tr style=\"text-align: right;\">\n",
       "      <th></th>\n",
       "      <th>Date</th>\n",
       "      <th>Time</th>\n",
       "      <th>Comp</th>\n",
       "      <th>Round</th>\n",
       "      <th>Day</th>\n",
       "      <th>Venue</th>\n",
       "      <th>Result</th>\n",
       "      <th>GF</th>\n",
       "      <th>GA</th>\n",
       "      <th>Opponent</th>\n",
       "      <th>...</th>\n",
       "      <th>Formation</th>\n",
       "      <th>Referee</th>\n",
       "      <th>Match Report</th>\n",
       "      <th>Notes</th>\n",
       "      <th>Sh</th>\n",
       "      <th>SoT</th>\n",
       "      <th>Dist</th>\n",
       "      <th>FK</th>\n",
       "      <th>PK</th>\n",
       "      <th>PKatt</th>\n",
       "    </tr>\n",
       "  </thead>\n",
       "  <tbody>\n",
       "    <tr>\n",
       "      <th>0</th>\n",
       "      <td>2023-08-06</td>\n",
       "      <td>16:00</td>\n",
       "      <td>Community Shield</td>\n",
       "      <td>FA Community Shield</td>\n",
       "      <td>Sun</td>\n",
       "      <td>Neutral</td>\n",
       "      <td>D</td>\n",
       "      <td>1 (4)</td>\n",
       "      <td>1 (1)</td>\n",
       "      <td>Manchester City</td>\n",
       "      <td>...</td>\n",
       "      <td>4-3-3</td>\n",
       "      <td>Stuart Attwell</td>\n",
       "      <td>Match Report</td>\n",
       "      <td>Arsenal won on penalty kicks following normal ...</td>\n",
       "      <td>7</td>\n",
       "      <td>3</td>\n",
       "      <td>NaN</td>\n",
       "      <td>NaN</td>\n",
       "      <td>0</td>\n",
       "      <td>0</td>\n",
       "    </tr>\n",
       "    <tr>\n",
       "      <th>1</th>\n",
       "      <td>2023-08-12</td>\n",
       "      <td>12:30</td>\n",
       "      <td>Premier League</td>\n",
       "      <td>Matchweek 1</td>\n",
       "      <td>Sat</td>\n",
       "      <td>Home</td>\n",
       "      <td>W</td>\n",
       "      <td>2</td>\n",
       "      <td>1</td>\n",
       "      <td>Nott'ham Forest</td>\n",
       "      <td>...</td>\n",
       "      <td>4-3-3</td>\n",
       "      <td>Michael Oliver</td>\n",
       "      <td>Match Report</td>\n",
       "      <td>NaN</td>\n",
       "      <td>15</td>\n",
       "      <td>7</td>\n",
       "      <td>19.1</td>\n",
       "      <td>0.0</td>\n",
       "      <td>0</td>\n",
       "      <td>0</td>\n",
       "    </tr>\n",
       "    <tr>\n",
       "      <th>2</th>\n",
       "      <td>2023-08-21</td>\n",
       "      <td>20:00</td>\n",
       "      <td>Premier League</td>\n",
       "      <td>Matchweek 2</td>\n",
       "      <td>Mon</td>\n",
       "      <td>Away</td>\n",
       "      <td>W</td>\n",
       "      <td>1</td>\n",
       "      <td>0</td>\n",
       "      <td>Crystal Palace</td>\n",
       "      <td>...</td>\n",
       "      <td>4-3-3</td>\n",
       "      <td>David Coote</td>\n",
       "      <td>Match Report</td>\n",
       "      <td>NaN</td>\n",
       "      <td>13</td>\n",
       "      <td>2</td>\n",
       "      <td>16.4</td>\n",
       "      <td>0.0</td>\n",
       "      <td>1</td>\n",
       "      <td>1</td>\n",
       "    </tr>\n",
       "    <tr>\n",
       "      <th>3</th>\n",
       "      <td>2023-08-26</td>\n",
       "      <td>15:00</td>\n",
       "      <td>Premier League</td>\n",
       "      <td>Matchweek 3</td>\n",
       "      <td>Sat</td>\n",
       "      <td>Home</td>\n",
       "      <td>D</td>\n",
       "      <td>2</td>\n",
       "      <td>2</td>\n",
       "      <td>Fulham</td>\n",
       "      <td>...</td>\n",
       "      <td>4-3-3</td>\n",
       "      <td>Paul Tierney</td>\n",
       "      <td>Match Report</td>\n",
       "      <td>NaN</td>\n",
       "      <td>18</td>\n",
       "      <td>9</td>\n",
       "      <td>13.8</td>\n",
       "      <td>0.0</td>\n",
       "      <td>1</td>\n",
       "      <td>1</td>\n",
       "    </tr>\n",
       "    <tr>\n",
       "      <th>4</th>\n",
       "      <td>2023-09-03</td>\n",
       "      <td>16:30</td>\n",
       "      <td>Premier League</td>\n",
       "      <td>Matchweek 4</td>\n",
       "      <td>Sun</td>\n",
       "      <td>Home</td>\n",
       "      <td>W</td>\n",
       "      <td>3</td>\n",
       "      <td>1</td>\n",
       "      <td>Manchester Utd</td>\n",
       "      <td>...</td>\n",
       "      <td>4-3-3</td>\n",
       "      <td>Anthony Taylor</td>\n",
       "      <td>Match Report</td>\n",
       "      <td>NaN</td>\n",
       "      <td>17</td>\n",
       "      <td>5</td>\n",
       "      <td>15.0</td>\n",
       "      <td>0.0</td>\n",
       "      <td>0</td>\n",
       "      <td>0</td>\n",
       "    </tr>\n",
       "  </tbody>\n",
       "</table>\n",
       "<p>5 rows × 25 columns</p>\n",
       "</div>"
      ],
      "text/plain": [
       "         Date   Time              Comp                Round  Day    Venue  \\\n",
       "0  2023-08-06  16:00  Community Shield  FA Community Shield  Sun  Neutral   \n",
       "1  2023-08-12  12:30    Premier League          Matchweek 1  Sat     Home   \n",
       "2  2023-08-21  20:00    Premier League          Matchweek 2  Mon     Away   \n",
       "3  2023-08-26  15:00    Premier League          Matchweek 3  Sat     Home   \n",
       "4  2023-09-03  16:30    Premier League          Matchweek 4  Sun     Home   \n",
       "\n",
       "  Result     GF     GA         Opponent  ...  Formation         Referee  \\\n",
       "0      D  1 (4)  1 (1)  Manchester City  ...      4-3-3  Stuart Attwell   \n",
       "1      W      2      1  Nott'ham Forest  ...      4-3-3  Michael Oliver   \n",
       "2      W      1      0   Crystal Palace  ...      4-3-3     David Coote   \n",
       "3      D      2      2           Fulham  ...      4-3-3    Paul Tierney   \n",
       "4      W      3      1   Manchester Utd  ...      4-3-3  Anthony Taylor   \n",
       "\n",
       "   Match Report                                              Notes  Sh SoT  \\\n",
       "0  Match Report  Arsenal won on penalty kicks following normal ...   7   3   \n",
       "1  Match Report                                                NaN  15   7   \n",
       "2  Match Report                                                NaN  13   2   \n",
       "3  Match Report                                                NaN  18   9   \n",
       "4  Match Report                                                NaN  17   5   \n",
       "\n",
       "   Dist   FK PK  PKatt  \n",
       "0   NaN  NaN  0      0  \n",
       "1  19.1  0.0  0      0  \n",
       "2  16.4  0.0  1      1  \n",
       "3  13.8  0.0  1      1  \n",
       "4  15.0  0.0  0      0  \n",
       "\n",
       "[5 rows x 25 columns]"
      ]
     },
     "execution_count": 21,
     "metadata": {},
     "output_type": "execute_result"
    }
   ],
   "source": [
    "team_data.head()"
   ]
  },
  {
   "cell_type": "code",
   "execution_count": 22,
   "id": "0515b73f-3fc4-4514-b66b-4ba68dbfa1fc",
   "metadata": {
    "ExecuteTime": {
     "end_time": "2024-03-05T23:11:00.252012Z",
     "start_time": "2024-03-05T23:11:00.249378Z"
    },
    "tags": []
   },
   "outputs": [],
   "source": [
    "#we need the matches from 2022 to present\n",
    "years = list(range(2024, 2022, -1))\n",
    "all_matches = []"
   ]
  },
  {
   "cell_type": "code",
   "execution_count": 23,
   "id": "8e0a4db9-54f0-48eb-a76f-5727f6404f14",
   "metadata": {
    "ExecuteTime": {
     "end_time": "2024-03-05T23:11:01.076283Z",
     "start_time": "2024-03-05T23:11:01.074007Z"
    },
    "tags": []
   },
   "outputs": [],
   "source": [
    "standings_url = \"https://fbref.com/en/comps/9/Premier-League-Stats\""
   ]
  },
  {
   "cell_type": "code",
   "execution_count": 24,
   "id": "ff072127-6a65-4b3e-933d-e84b92bf120c",
   "metadata": {
    "ExecuteTime": {
     "end_time": "2024-03-05T23:22:27.311773Z",
     "start_time": "2024-03-05T23:11:06.500739Z"
    },
    "tags": []
   },
   "outputs": [],
   "source": [
    "#we perform the previous steps, while iterating for all teams in the Premier League between 2022 to present\n",
    "import time\n",
    "for year in years:\n",
    "    data = requests.get(standings_url)\n",
    "    soup = BeautifulSoup(data.text)\n",
    "    standings_table = soup.select('table.stats_table')[0]\n",
    "\n",
    "    links = [l.get(\"href\") for l in standings_table.find_all('a')]\n",
    "    links = [l for l in links if '/squads/' in l]\n",
    "    team_urls = [f\"https://fbref.com{l}\" for l in links]\n",
    "    \n",
    "    previous_season = soup.select(\"a.prev\")[0].get(\"href\")\n",
    "    standings_url = f\"https://fbref.com{previous_season}\"\n",
    "    \n",
    "    for team_url in team_urls:\n",
    "        team_name = team_url.split(\"/\")[-1].replace(\"-Stats\", \"\").replace(\"-\", \" \")\n",
    "        data = requests.get(team_url)\n",
    "        matches = pd.read_html(data.text, match=\"Scores & Fixtures\")[0]\n",
    "        soup = BeautifulSoup(data.text)\n",
    "        links = [l.get(\"href\") for l in soup.find_all('a')]\n",
    "        links = [l for l in links if l and 'all_comps/shooting/' in l]\n",
    "        data = requests.get(f\"https://fbref.com{links[0]}\")\n",
    "        shooting = pd.read_html(data.text, match=\"Shooting\")[0]\n",
    "        shooting.columns = shooting.columns.droplevel()\n",
    "        try:\n",
    "            team_data = matches.merge(shooting[[\"Date\", \"Sh\", \"SoT\", \"Dist\", \"FK\", \"PK\", \"PKatt\"]], on=\"Date\")\n",
    "        except ValueError:\n",
    "            continue\n",
    "        team_data = team_data[team_data[\"Comp\"] == \"Premier League\"]\n",
    "        \n",
    "        team_data[\"Season\"] = year\n",
    "        team_data[\"Team\"] = team_name\n",
    "        all_matches.append(team_data)\n",
    "        time.sleep(15)"
   ]
  },
  {
   "cell_type": "code",
   "execution_count": 25,
   "id": "d64c2086-7aeb-45f4-a3c5-4f723eda98e9",
   "metadata": {
    "ExecuteTime": {
     "end_time": "2024-03-05T23:22:31.394010Z",
     "start_time": "2024-03-05T23:22:31.390179Z"
    },
    "tags": []
   },
   "outputs": [
    {
     "data": {
      "text/plain": [
       "40"
      ]
     },
     "execution_count": 25,
     "metadata": {},
     "output_type": "execute_result"
    }
   ],
   "source": [
    "len(all_matches)"
   ]
  },
  {
   "cell_type": "code",
   "execution_count": 26,
   "id": "5e43f577-f96a-49d3-8c28-3933617ef207",
   "metadata": {
    "ExecuteTime": {
     "end_time": "2024-03-05T23:22:32.087555Z",
     "start_time": "2024-03-05T23:22:32.068665Z"
    },
    "tags": []
   },
   "outputs": [],
   "source": [
    "match_df = pd.concat(all_matches)"
   ]
  },
  {
   "cell_type": "code",
   "execution_count": 27,
   "id": "68c50681-09db-4ff0-b7c6-9b36dd648442",
   "metadata": {
    "ExecuteTime": {
     "end_time": "2024-03-05T23:22:34.267742Z",
     "start_time": "2024-03-05T23:22:34.264806Z"
    },
    "tags": []
   },
   "outputs": [],
   "source": [
    "match_df.columns = [c.lower() for c in match_df.columns]"
   ]
  },
  {
   "cell_type": "code",
   "execution_count": 28,
   "id": "0915fcdf-6cdf-4acf-8ed4-5a847d95e229",
   "metadata": {
    "ExecuteTime": {
     "end_time": "2024-03-05T23:22:36.272614Z",
     "start_time": "2024-03-05T23:22:36.247529Z"
    },
    "tags": []
   },
   "outputs": [
    {
     "data": {
      "text/html": [
       "<div>\n",
       "<style scoped>\n",
       "    .dataframe tbody tr th:only-of-type {\n",
       "        vertical-align: middle;\n",
       "    }\n",
       "\n",
       "    .dataframe tbody tr th {\n",
       "        vertical-align: top;\n",
       "    }\n",
       "\n",
       "    .dataframe thead th {\n",
       "        text-align: right;\n",
       "    }\n",
       "</style>\n",
       "<table border=\"1\" class=\"dataframe\">\n",
       "  <thead>\n",
       "    <tr style=\"text-align: right;\">\n",
       "      <th></th>\n",
       "      <th>date</th>\n",
       "      <th>time</th>\n",
       "      <th>comp</th>\n",
       "      <th>round</th>\n",
       "      <th>day</th>\n",
       "      <th>venue</th>\n",
       "      <th>result</th>\n",
       "      <th>gf</th>\n",
       "      <th>ga</th>\n",
       "      <th>opponent</th>\n",
       "      <th>...</th>\n",
       "      <th>match report</th>\n",
       "      <th>notes</th>\n",
       "      <th>sh</th>\n",
       "      <th>sot</th>\n",
       "      <th>dist</th>\n",
       "      <th>fk</th>\n",
       "      <th>pk</th>\n",
       "      <th>pkatt</th>\n",
       "      <th>season</th>\n",
       "      <th>team</th>\n",
       "    </tr>\n",
       "  </thead>\n",
       "  <tbody>\n",
       "    <tr>\n",
       "      <th>1</th>\n",
       "      <td>2023-08-12</td>\n",
       "      <td>12:30</td>\n",
       "      <td>Premier League</td>\n",
       "      <td>Matchweek 1</td>\n",
       "      <td>Sat</td>\n",
       "      <td>Home</td>\n",
       "      <td>W</td>\n",
       "      <td>2</td>\n",
       "      <td>1</td>\n",
       "      <td>Nott'ham Forest</td>\n",
       "      <td>...</td>\n",
       "      <td>Match Report</td>\n",
       "      <td>NaN</td>\n",
       "      <td>15.0</td>\n",
       "      <td>7.0</td>\n",
       "      <td>19.1</td>\n",
       "      <td>0.0</td>\n",
       "      <td>0</td>\n",
       "      <td>0</td>\n",
       "      <td>2024</td>\n",
       "      <td>Arsenal</td>\n",
       "    </tr>\n",
       "    <tr>\n",
       "      <th>2</th>\n",
       "      <td>2023-08-21</td>\n",
       "      <td>20:00</td>\n",
       "      <td>Premier League</td>\n",
       "      <td>Matchweek 2</td>\n",
       "      <td>Mon</td>\n",
       "      <td>Away</td>\n",
       "      <td>W</td>\n",
       "      <td>1</td>\n",
       "      <td>0</td>\n",
       "      <td>Crystal Palace</td>\n",
       "      <td>...</td>\n",
       "      <td>Match Report</td>\n",
       "      <td>NaN</td>\n",
       "      <td>13.0</td>\n",
       "      <td>2.0</td>\n",
       "      <td>16.4</td>\n",
       "      <td>0.0</td>\n",
       "      <td>1</td>\n",
       "      <td>1</td>\n",
       "      <td>2024</td>\n",
       "      <td>Arsenal</td>\n",
       "    </tr>\n",
       "    <tr>\n",
       "      <th>3</th>\n",
       "      <td>2023-08-26</td>\n",
       "      <td>15:00</td>\n",
       "      <td>Premier League</td>\n",
       "      <td>Matchweek 3</td>\n",
       "      <td>Sat</td>\n",
       "      <td>Home</td>\n",
       "      <td>D</td>\n",
       "      <td>2</td>\n",
       "      <td>2</td>\n",
       "      <td>Fulham</td>\n",
       "      <td>...</td>\n",
       "      <td>Match Report</td>\n",
       "      <td>NaN</td>\n",
       "      <td>18.0</td>\n",
       "      <td>9.0</td>\n",
       "      <td>13.8</td>\n",
       "      <td>0.0</td>\n",
       "      <td>1</td>\n",
       "      <td>1</td>\n",
       "      <td>2024</td>\n",
       "      <td>Arsenal</td>\n",
       "    </tr>\n",
       "    <tr>\n",
       "      <th>4</th>\n",
       "      <td>2023-09-03</td>\n",
       "      <td>16:30</td>\n",
       "      <td>Premier League</td>\n",
       "      <td>Matchweek 4</td>\n",
       "      <td>Sun</td>\n",
       "      <td>Home</td>\n",
       "      <td>W</td>\n",
       "      <td>3</td>\n",
       "      <td>1</td>\n",
       "      <td>Manchester Utd</td>\n",
       "      <td>...</td>\n",
       "      <td>Match Report</td>\n",
       "      <td>NaN</td>\n",
       "      <td>17.0</td>\n",
       "      <td>5.0</td>\n",
       "      <td>15.0</td>\n",
       "      <td>0.0</td>\n",
       "      <td>0</td>\n",
       "      <td>0</td>\n",
       "      <td>2024</td>\n",
       "      <td>Arsenal</td>\n",
       "    </tr>\n",
       "    <tr>\n",
       "      <th>5</th>\n",
       "      <td>2023-09-17</td>\n",
       "      <td>16:30</td>\n",
       "      <td>Premier League</td>\n",
       "      <td>Matchweek 5</td>\n",
       "      <td>Sun</td>\n",
       "      <td>Away</td>\n",
       "      <td>W</td>\n",
       "      <td>1</td>\n",
       "      <td>0</td>\n",
       "      <td>Everton</td>\n",
       "      <td>...</td>\n",
       "      <td>Match Report</td>\n",
       "      <td>NaN</td>\n",
       "      <td>13.0</td>\n",
       "      <td>4.0</td>\n",
       "      <td>17.4</td>\n",
       "      <td>0.0</td>\n",
       "      <td>0</td>\n",
       "      <td>0</td>\n",
       "      <td>2024</td>\n",
       "      <td>Arsenal</td>\n",
       "    </tr>\n",
       "    <tr>\n",
       "      <th>...</th>\n",
       "      <td>...</td>\n",
       "      <td>...</td>\n",
       "      <td>...</td>\n",
       "      <td>...</td>\n",
       "      <td>...</td>\n",
       "      <td>...</td>\n",
       "      <td>...</td>\n",
       "      <td>...</td>\n",
       "      <td>...</td>\n",
       "      <td>...</td>\n",
       "      <td>...</td>\n",
       "      <td>...</td>\n",
       "      <td>...</td>\n",
       "      <td>...</td>\n",
       "      <td>...</td>\n",
       "      <td>...</td>\n",
       "      <td>...</td>\n",
       "      <td>...</td>\n",
       "      <td>...</td>\n",
       "      <td>...</td>\n",
       "      <td>...</td>\n",
       "    </tr>\n",
       "    <tr>\n",
       "      <th>42</th>\n",
       "      <td>2023-04-30</td>\n",
       "      <td>14:00</td>\n",
       "      <td>Premier League</td>\n",
       "      <td>Matchweek 34</td>\n",
       "      <td>Sun</td>\n",
       "      <td>Away</td>\n",
       "      <td>L</td>\n",
       "      <td>1</td>\n",
       "      <td>3</td>\n",
       "      <td>Newcastle Utd</td>\n",
       "      <td>...</td>\n",
       "      <td>Match Report</td>\n",
       "      <td>NaN</td>\n",
       "      <td>4.0</td>\n",
       "      <td>3.0</td>\n",
       "      <td>17.3</td>\n",
       "      <td>0.0</td>\n",
       "      <td>0</td>\n",
       "      <td>0</td>\n",
       "      <td>2023</td>\n",
       "      <td>Southampton</td>\n",
       "    </tr>\n",
       "    <tr>\n",
       "      <th>43</th>\n",
       "      <td>2023-05-08</td>\n",
       "      <td>20:00</td>\n",
       "      <td>Premier League</td>\n",
       "      <td>Matchweek 35</td>\n",
       "      <td>Mon</td>\n",
       "      <td>Away</td>\n",
       "      <td>L</td>\n",
       "      <td>3</td>\n",
       "      <td>4</td>\n",
       "      <td>Nott'ham Forest</td>\n",
       "      <td>...</td>\n",
       "      <td>Match Report</td>\n",
       "      <td>NaN</td>\n",
       "      <td>18.0</td>\n",
       "      <td>4.0</td>\n",
       "      <td>14.0</td>\n",
       "      <td>0.0</td>\n",
       "      <td>1</td>\n",
       "      <td>1</td>\n",
       "      <td>2023</td>\n",
       "      <td>Southampton</td>\n",
       "    </tr>\n",
       "    <tr>\n",
       "      <th>44</th>\n",
       "      <td>2023-05-13</td>\n",
       "      <td>15:00</td>\n",
       "      <td>Premier League</td>\n",
       "      <td>Matchweek 36</td>\n",
       "      <td>Sat</td>\n",
       "      <td>Home</td>\n",
       "      <td>L</td>\n",
       "      <td>0</td>\n",
       "      <td>2</td>\n",
       "      <td>Fulham</td>\n",
       "      <td>...</td>\n",
       "      <td>Match Report</td>\n",
       "      <td>NaN</td>\n",
       "      <td>5.0</td>\n",
       "      <td>1.0</td>\n",
       "      <td>24.2</td>\n",
       "      <td>0.0</td>\n",
       "      <td>0</td>\n",
       "      <td>0</td>\n",
       "      <td>2023</td>\n",
       "      <td>Southampton</td>\n",
       "    </tr>\n",
       "    <tr>\n",
       "      <th>45</th>\n",
       "      <td>2023-05-21</td>\n",
       "      <td>14:00</td>\n",
       "      <td>Premier League</td>\n",
       "      <td>Matchweek 37</td>\n",
       "      <td>Sun</td>\n",
       "      <td>Away</td>\n",
       "      <td>L</td>\n",
       "      <td>1</td>\n",
       "      <td>3</td>\n",
       "      <td>Brighton</td>\n",
       "      <td>...</td>\n",
       "      <td>Match Report</td>\n",
       "      <td>NaN</td>\n",
       "      <td>5.0</td>\n",
       "      <td>1.0</td>\n",
       "      <td>13.8</td>\n",
       "      <td>1.0</td>\n",
       "      <td>0</td>\n",
       "      <td>0</td>\n",
       "      <td>2023</td>\n",
       "      <td>Southampton</td>\n",
       "    </tr>\n",
       "    <tr>\n",
       "      <th>46</th>\n",
       "      <td>2023-05-28</td>\n",
       "      <td>16:30</td>\n",
       "      <td>Premier League</td>\n",
       "      <td>Matchweek 38</td>\n",
       "      <td>Sun</td>\n",
       "      <td>Home</td>\n",
       "      <td>D</td>\n",
       "      <td>4</td>\n",
       "      <td>4</td>\n",
       "      <td>Liverpool</td>\n",
       "      <td>...</td>\n",
       "      <td>Match Report</td>\n",
       "      <td>NaN</td>\n",
       "      <td>15.0</td>\n",
       "      <td>10.0</td>\n",
       "      <td>17.5</td>\n",
       "      <td>1.0</td>\n",
       "      <td>0</td>\n",
       "      <td>0</td>\n",
       "      <td>2023</td>\n",
       "      <td>Southampton</td>\n",
       "    </tr>\n",
       "  </tbody>\n",
       "</table>\n",
       "<p>1420 rows × 27 columns</p>\n",
       "</div>"
      ],
      "text/plain": [
       "          date   time            comp         round  day venue result gf ga  \\\n",
       "1   2023-08-12  12:30  Premier League   Matchweek 1  Sat  Home      W  2  1   \n",
       "2   2023-08-21  20:00  Premier League   Matchweek 2  Mon  Away      W  1  0   \n",
       "3   2023-08-26  15:00  Premier League   Matchweek 3  Sat  Home      D  2  2   \n",
       "4   2023-09-03  16:30  Premier League   Matchweek 4  Sun  Home      W  3  1   \n",
       "5   2023-09-17  16:30  Premier League   Matchweek 5  Sun  Away      W  1  0   \n",
       "..         ...    ...             ...           ...  ...   ...    ... .. ..   \n",
       "42  2023-04-30  14:00  Premier League  Matchweek 34  Sun  Away      L  1  3   \n",
       "43  2023-05-08  20:00  Premier League  Matchweek 35  Mon  Away      L  3  4   \n",
       "44  2023-05-13  15:00  Premier League  Matchweek 36  Sat  Home      L  0  2   \n",
       "45  2023-05-21  14:00  Premier League  Matchweek 37  Sun  Away      L  1  3   \n",
       "46  2023-05-28  16:30  Premier League  Matchweek 38  Sun  Home      D  4  4   \n",
       "\n",
       "           opponent  ...  match report  notes    sh   sot  dist   fk pk pkatt  \\\n",
       "1   Nott'ham Forest  ...  Match Report    NaN  15.0   7.0  19.1  0.0  0     0   \n",
       "2    Crystal Palace  ...  Match Report    NaN  13.0   2.0  16.4  0.0  1     1   \n",
       "3            Fulham  ...  Match Report    NaN  18.0   9.0  13.8  0.0  1     1   \n",
       "4    Manchester Utd  ...  Match Report    NaN  17.0   5.0  15.0  0.0  0     0   \n",
       "5           Everton  ...  Match Report    NaN  13.0   4.0  17.4  0.0  0     0   \n",
       "..              ...  ...           ...    ...   ...   ...   ...  ... ..   ...   \n",
       "42    Newcastle Utd  ...  Match Report    NaN   4.0   3.0  17.3  0.0  0     0   \n",
       "43  Nott'ham Forest  ...  Match Report    NaN  18.0   4.0  14.0  0.0  1     1   \n",
       "44           Fulham  ...  Match Report    NaN   5.0   1.0  24.2  0.0  0     0   \n",
       "45         Brighton  ...  Match Report    NaN   5.0   1.0  13.8  1.0  0     0   \n",
       "46        Liverpool  ...  Match Report    NaN  15.0  10.0  17.5  1.0  0     0   \n",
       "\n",
       "   season         team  \n",
       "1    2024      Arsenal  \n",
       "2    2024      Arsenal  \n",
       "3    2024      Arsenal  \n",
       "4    2024      Arsenal  \n",
       "5    2024      Arsenal  \n",
       "..    ...          ...  \n",
       "42   2023  Southampton  \n",
       "43   2023  Southampton  \n",
       "44   2023  Southampton  \n",
       "45   2023  Southampton  \n",
       "46   2023  Southampton  \n",
       "\n",
       "[1420 rows x 27 columns]"
      ]
     },
     "execution_count": 28,
     "metadata": {},
     "output_type": "execute_result"
    }
   ],
   "source": [
    "match_df"
   ]
  },
  {
   "cell_type": "code",
   "execution_count": 29,
   "id": "fbf6c104-708f-4a9f-80fe-3e3085263a09",
   "metadata": {
    "ExecuteTime": {
     "end_time": "2024-03-05T23:22:42.442580Z",
     "start_time": "2024-03-05T23:22:42.405317Z"
    },
    "tags": []
   },
   "outputs": [],
   "source": [
    "match_df.to_csv(\"matches.csv\")"
   ]
  }
 ],
 "metadata": {
  "kernelspec": {
   "display_name": "Python 3 (ipykernel)",
   "language": "python",
   "name": "python3"
  },
  "language_info": {
   "codemirror_mode": {
    "name": "ipython",
    "version": 3
   },
   "file_extension": ".py",
   "mimetype": "text/x-python",
   "name": "python",
   "nbconvert_exporter": "python",
   "pygments_lexer": "ipython3",
   "version": "3.11.5"
  },
  "toc": {
   "base_numbering": 1,
   "nav_menu": {},
   "number_sections": true,
   "sideBar": true,
   "skip_h1_title": false,
   "title_cell": "Table of Contents",
   "title_sidebar": "Contents",
   "toc_cell": false,
   "toc_position": {},
   "toc_section_display": true,
   "toc_window_display": false
  },
  "varInspector": {
   "cols": {
    "lenName": 16,
    "lenType": 16,
    "lenVar": 40
   },
   "kernels_config": {
    "python": {
     "delete_cmd_postfix": "",
     "delete_cmd_prefix": "del ",
     "library": "var_list.py",
     "varRefreshCmd": "print(var_dic_list())"
    },
    "r": {
     "delete_cmd_postfix": ") ",
     "delete_cmd_prefix": "rm(",
     "library": "var_list.r",
     "varRefreshCmd": "cat(var_dic_list()) "
    }
   },
   "types_to_exclude": [
    "module",
    "function",
    "builtin_function_or_method",
    "instance",
    "_Feature"
   ],
   "window_display": false
  }
 },
 "nbformat": 4,
 "nbformat_minor": 5
}
