{
 "cells": [
  {
   "cell_type": "code",
   "execution_count": 1,
   "id": "285c33da-91c6-46d0-b087-7014288bd204",
   "metadata": {
    "tags": []
   },
   "outputs": [],
   "source": [
    "import pandas as pd"
   ]
  },
  {
   "cell_type": "code",
   "execution_count": 2,
   "id": "f9f9befd-8fb5-4335-85b3-727d53a68929",
   "metadata": {
    "tags": []
   },
   "outputs": [],
   "source": [
    "df = pd.read_csv(\"matches.csv\", index_col=0)"
   ]
  },
  {
   "cell_type": "code",
   "execution_count": 3,
   "id": "3fb12d0b-9a2a-4a1c-9449-a4bf7cfea97f",
   "metadata": {
    "tags": []
   },
   "outputs": [
    {
     "data": {
      "text/html": [
       "<div>\n",
       "<style scoped>\n",
       "    .dataframe tbody tr th:only-of-type {\n",
       "        vertical-align: middle;\n",
       "    }\n",
       "\n",
       "    .dataframe tbody tr th {\n",
       "        vertical-align: top;\n",
       "    }\n",
       "\n",
       "    .dataframe thead th {\n",
       "        text-align: right;\n",
       "    }\n",
       "</style>\n",
       "<table border=\"1\" class=\"dataframe\">\n",
       "  <thead>\n",
       "    <tr style=\"text-align: right;\">\n",
       "      <th></th>\n",
       "      <th>date</th>\n",
       "      <th>time</th>\n",
       "      <th>comp</th>\n",
       "      <th>round</th>\n",
       "      <th>day</th>\n",
       "      <th>venue</th>\n",
       "      <th>result</th>\n",
       "      <th>gf</th>\n",
       "      <th>ga</th>\n",
       "      <th>opponent</th>\n",
       "      <th>...</th>\n",
       "      <th>match report</th>\n",
       "      <th>notes</th>\n",
       "      <th>sh</th>\n",
       "      <th>sot</th>\n",
       "      <th>dist</th>\n",
       "      <th>fk</th>\n",
       "      <th>pk</th>\n",
       "      <th>pkatt</th>\n",
       "      <th>season</th>\n",
       "      <th>team</th>\n",
       "    </tr>\n",
       "  </thead>\n",
       "  <tbody>\n",
       "    <tr>\n",
       "      <th>1</th>\n",
       "      <td>2023-08-12</td>\n",
       "      <td>12:30</td>\n",
       "      <td>Premier League</td>\n",
       "      <td>Matchweek 1</td>\n",
       "      <td>Sat</td>\n",
       "      <td>Home</td>\n",
       "      <td>W</td>\n",
       "      <td>2.0</td>\n",
       "      <td>1.0</td>\n",
       "      <td>Nott'ham Forest</td>\n",
       "      <td>...</td>\n",
       "      <td>Match Report</td>\n",
       "      <td>NaN</td>\n",
       "      <td>15.0</td>\n",
       "      <td>7.0</td>\n",
       "      <td>19.1</td>\n",
       "      <td>0.0</td>\n",
       "      <td>0</td>\n",
       "      <td>0</td>\n",
       "      <td>2024</td>\n",
       "      <td>Arsenal</td>\n",
       "    </tr>\n",
       "    <tr>\n",
       "      <th>2</th>\n",
       "      <td>2023-08-21</td>\n",
       "      <td>20:00</td>\n",
       "      <td>Premier League</td>\n",
       "      <td>Matchweek 2</td>\n",
       "      <td>Mon</td>\n",
       "      <td>Away</td>\n",
       "      <td>W</td>\n",
       "      <td>1.0</td>\n",
       "      <td>0.0</td>\n",
       "      <td>Crystal Palace</td>\n",
       "      <td>...</td>\n",
       "      <td>Match Report</td>\n",
       "      <td>NaN</td>\n",
       "      <td>13.0</td>\n",
       "      <td>2.0</td>\n",
       "      <td>16.4</td>\n",
       "      <td>0.0</td>\n",
       "      <td>1</td>\n",
       "      <td>1</td>\n",
       "      <td>2024</td>\n",
       "      <td>Arsenal</td>\n",
       "    </tr>\n",
       "    <tr>\n",
       "      <th>3</th>\n",
       "      <td>2023-08-26</td>\n",
       "      <td>15:00</td>\n",
       "      <td>Premier League</td>\n",
       "      <td>Matchweek 3</td>\n",
       "      <td>Sat</td>\n",
       "      <td>Home</td>\n",
       "      <td>D</td>\n",
       "      <td>2.0</td>\n",
       "      <td>2.0</td>\n",
       "      <td>Fulham</td>\n",
       "      <td>...</td>\n",
       "      <td>Match Report</td>\n",
       "      <td>NaN</td>\n",
       "      <td>18.0</td>\n",
       "      <td>9.0</td>\n",
       "      <td>13.8</td>\n",
       "      <td>0.0</td>\n",
       "      <td>1</td>\n",
       "      <td>1</td>\n",
       "      <td>2024</td>\n",
       "      <td>Arsenal</td>\n",
       "    </tr>\n",
       "    <tr>\n",
       "      <th>4</th>\n",
       "      <td>2023-09-03</td>\n",
       "      <td>16:30</td>\n",
       "      <td>Premier League</td>\n",
       "      <td>Matchweek 4</td>\n",
       "      <td>Sun</td>\n",
       "      <td>Home</td>\n",
       "      <td>W</td>\n",
       "      <td>3.0</td>\n",
       "      <td>1.0</td>\n",
       "      <td>Manchester Utd</td>\n",
       "      <td>...</td>\n",
       "      <td>Match Report</td>\n",
       "      <td>NaN</td>\n",
       "      <td>17.0</td>\n",
       "      <td>5.0</td>\n",
       "      <td>15.0</td>\n",
       "      <td>0.0</td>\n",
       "      <td>0</td>\n",
       "      <td>0</td>\n",
       "      <td>2024</td>\n",
       "      <td>Arsenal</td>\n",
       "    </tr>\n",
       "    <tr>\n",
       "      <th>5</th>\n",
       "      <td>2023-09-17</td>\n",
       "      <td>16:30</td>\n",
       "      <td>Premier League</td>\n",
       "      <td>Matchweek 5</td>\n",
       "      <td>Sun</td>\n",
       "      <td>Away</td>\n",
       "      <td>W</td>\n",
       "      <td>1.0</td>\n",
       "      <td>0.0</td>\n",
       "      <td>Everton</td>\n",
       "      <td>...</td>\n",
       "      <td>Match Report</td>\n",
       "      <td>NaN</td>\n",
       "      <td>13.0</td>\n",
       "      <td>4.0</td>\n",
       "      <td>17.4</td>\n",
       "      <td>0.0</td>\n",
       "      <td>0</td>\n",
       "      <td>0</td>\n",
       "      <td>2024</td>\n",
       "      <td>Arsenal</td>\n",
       "    </tr>\n",
       "  </tbody>\n",
       "</table>\n",
       "<p>5 rows × 27 columns</p>\n",
       "</div>"
      ],
      "text/plain": [
       "         date   time            comp        round  day venue result   gf   ga  \\\n",
       "1  2023-08-12  12:30  Premier League  Matchweek 1  Sat  Home      W  2.0  1.0   \n",
       "2  2023-08-21  20:00  Premier League  Matchweek 2  Mon  Away      W  1.0  0.0   \n",
       "3  2023-08-26  15:00  Premier League  Matchweek 3  Sat  Home      D  2.0  2.0   \n",
       "4  2023-09-03  16:30  Premier League  Matchweek 4  Sun  Home      W  3.0  1.0   \n",
       "5  2023-09-17  16:30  Premier League  Matchweek 5  Sun  Away      W  1.0  0.0   \n",
       "\n",
       "          opponent  ...  match report  notes    sh  sot  dist   fk pk pkatt  \\\n",
       "1  Nott'ham Forest  ...  Match Report    NaN  15.0  7.0  19.1  0.0  0     0   \n",
       "2   Crystal Palace  ...  Match Report    NaN  13.0  2.0  16.4  0.0  1     1   \n",
       "3           Fulham  ...  Match Report    NaN  18.0  9.0  13.8  0.0  1     1   \n",
       "4   Manchester Utd  ...  Match Report    NaN  17.0  5.0  15.0  0.0  0     0   \n",
       "5          Everton  ...  Match Report    NaN  13.0  4.0  17.4  0.0  0     0   \n",
       "\n",
       "   season     team  \n",
       "1    2024  Arsenal  \n",
       "2    2024  Arsenal  \n",
       "3    2024  Arsenal  \n",
       "4    2024  Arsenal  \n",
       "5    2024  Arsenal  \n",
       "\n",
       "[5 rows x 27 columns]"
      ]
     },
     "execution_count": 3,
     "metadata": {},
     "output_type": "execute_result"
    }
   ],
   "source": [
    "df.head()"
   ]
  },
  {
   "cell_type": "code",
   "execution_count": 4,
   "id": "b83893da-41a9-4c9f-9be5-16eff1585f4b",
   "metadata": {
    "tags": []
   },
   "outputs": [
    {
     "data": {
      "text/plain": [
       "(1420, 27)"
      ]
     },
     "execution_count": 4,
     "metadata": {},
     "output_type": "execute_result"
    }
   ],
   "source": [
    "df.shape"
   ]
  },
  {
   "cell_type": "code",
   "execution_count": 5,
   "id": "7b227561-dcda-462f-a698-f54b45c0cd2f",
   "metadata": {
    "tags": []
   },
   "outputs": [
    {
     "data": {
      "text/plain": [
       "date               0\n",
       "time               0\n",
       "comp               0\n",
       "round              0\n",
       "day                0\n",
       "venue              0\n",
       "result             0\n",
       "gf                 0\n",
       "ga                 0\n",
       "opponent           0\n",
       "xg                 0\n",
       "xga                0\n",
       "poss               0\n",
       "attendance         6\n",
       "captain            0\n",
       "formation          0\n",
       "referee            0\n",
       "match report       0\n",
       "notes           1420\n",
       "sh                 0\n",
       "sot                0\n",
       "dist               0\n",
       "fk                 0\n",
       "pk                 0\n",
       "pkatt              0\n",
       "season             0\n",
       "team               0\n",
       "dtype: int64"
      ]
     },
     "execution_count": 5,
     "metadata": {},
     "output_type": "execute_result"
    }
   ],
   "source": [
    "df.isnull().sum()"
   ]
  },
  {
   "cell_type": "code",
   "execution_count": 6,
   "id": "98ea08e8-7f50-48e8-ab11-1212df94926d",
   "metadata": {
    "tags": []
   },
   "outputs": [
    {
     "data": {
      "text/plain": [
       "0"
      ]
     },
     "execution_count": 6,
     "metadata": {},
     "output_type": "execute_result"
    }
   ],
   "source": [
    "df.duplicated().sum()"
   ]
  },
  {
   "cell_type": "code",
   "execution_count": 7,
   "id": "399d48bb-772b-49d5-98f9-453884973aca",
   "metadata": {
    "tags": []
   },
   "outputs": [
    {
     "data": {
      "text/plain": [
       "23"
      ]
     },
     "execution_count": 7,
     "metadata": {},
     "output_type": "execute_result"
    }
   ],
   "source": [
    "df['team'].nunique()"
   ]
  },
  {
   "cell_type": "code",
   "execution_count": 8,
   "id": "7d9f9409-2e0e-4bb5-be86-f490156e2545",
   "metadata": {
    "tags": []
   },
   "outputs": [
    {
     "data": {
      "text/plain": [
       "team\n",
       "Fulham                      72\n",
       "Nottingham Forest           72\n",
       "Aston Villa                 72\n",
       "Brentford                   72\n",
       "West Ham United             72\n",
       "Wolverhampton Wanderers     71\n",
       "Everton                     71\n",
       "Crystal Palace              71\n",
       "Bournemouth                 71\n",
       "Liverpool                   71\n",
       "Arsenal                     71\n",
       "Brighton and Hove Albion    70\n",
       "Manchester United           70\n",
       "Newcastle United            70\n",
       "Tottenham Hotspur           70\n",
       "Manchester City             70\n",
       "Chelsea                     69\n",
       "Leicester City              38\n",
       "Leeds United                38\n",
       "Southampton                 38\n",
       "Luton Town                  34\n",
       "Burnley                     34\n",
       "Sheffield United            33\n",
       "Name: count, dtype: int64"
      ]
     },
     "execution_count": 8,
     "metadata": {},
     "output_type": "execute_result"
    }
   ],
   "source": [
    "df[\"team\"].value_counts()"
   ]
  },
  {
   "cell_type": "code",
   "execution_count": 9,
   "id": "9b7313fe-d6f3-4eae-80c4-93fdd0e8fe59",
   "metadata": {
    "tags": []
   },
   "outputs": [
    {
     "data": {
      "text/plain": [
       "round\n",
       "Matchweek 1     40\n",
       "Matchweek 17    40\n",
       "Matchweek 33    40\n",
       "Matchweek 32    40\n",
       "Matchweek 31    40\n",
       "Matchweek 30    40\n",
       "Matchweek 28    40\n",
       "Matchweek 27    40\n",
       "Matchweek 25    40\n",
       "Matchweek 24    40\n",
       "Matchweek 23    40\n",
       "Matchweek 22    40\n",
       "Matchweek 21    40\n",
       "Matchweek 2     40\n",
       "Matchweek 19    40\n",
       "Matchweek 18    40\n",
       "Matchweek 20    40\n",
       "Matchweek 16    40\n",
       "Matchweek 8     40\n",
       "Matchweek 3     40\n",
       "Matchweek 4     40\n",
       "Matchweek 5     40\n",
       "Matchweek 6     40\n",
       "Matchweek 15    40\n",
       "Matchweek 7     40\n",
       "Matchweek 9     40\n",
       "Matchweek 10    40\n",
       "Matchweek 11    40\n",
       "Matchweek 12    40\n",
       "Matchweek 13    40\n",
       "Matchweek 14    40\n",
       "Matchweek 26    38\n",
       "Matchweek 34    34\n",
       "Matchweek 29    28\n",
       "Matchweek 35    20\n",
       "Matchweek 36    20\n",
       "Matchweek 37    20\n",
       "Matchweek 38    20\n",
       "Name: count, dtype: int64"
      ]
     },
     "execution_count": 9,
     "metadata": {},
     "output_type": "execute_result"
    }
   ],
   "source": [
    "df[\"round\"].value_counts()"
   ]
  },
  {
   "cell_type": "code",
   "execution_count": 10,
   "id": "d8c31a87-88c1-47d5-ae27-d3ad690ca2b8",
   "metadata": {
    "tags": []
   },
   "outputs": [
    {
     "data": {
      "text/plain": [
       "date             object\n",
       "time             object\n",
       "comp             object\n",
       "round            object\n",
       "day              object\n",
       "venue            object\n",
       "result           object\n",
       "gf              float64\n",
       "ga              float64\n",
       "opponent         object\n",
       "xg              float64\n",
       "xga             float64\n",
       "poss            float64\n",
       "attendance      float64\n",
       "captain          object\n",
       "formation        object\n",
       "referee          object\n",
       "match report     object\n",
       "notes           float64\n",
       "sh              float64\n",
       "sot             float64\n",
       "dist            float64\n",
       "fk              float64\n",
       "pk                int64\n",
       "pkatt             int64\n",
       "season            int64\n",
       "team             object\n",
       "dtype: object"
      ]
     },
     "execution_count": 10,
     "metadata": {},
     "output_type": "execute_result"
    }
   ],
   "source": [
    "df.dtypes"
   ]
  },
  {
   "cell_type": "code",
   "execution_count": 11,
   "id": "e5bf7c4f-fd2d-4901-b5dd-36c9ecefccc9",
   "metadata": {
    "tags": []
   },
   "outputs": [],
   "source": [
    "df = df.drop(columns=[\"comp\",\"notes\"])"
   ]
  },
  {
   "cell_type": "code",
   "execution_count": 12,
   "id": "6e29f6bb-e8f5-4d8f-8d6c-ea5e2138eeed",
   "metadata": {
    "tags": []
   },
   "outputs": [
    {
     "data": {
      "text/plain": [
       "date             object\n",
       "time             object\n",
       "round            object\n",
       "day              object\n",
       "venue            object\n",
       "result           object\n",
       "gf              float64\n",
       "ga              float64\n",
       "opponent         object\n",
       "xg              float64\n",
       "xga             float64\n",
       "poss            float64\n",
       "attendance      float64\n",
       "captain          object\n",
       "formation        object\n",
       "referee          object\n",
       "match report     object\n",
       "sh              float64\n",
       "sot             float64\n",
       "dist            float64\n",
       "fk              float64\n",
       "pk                int64\n",
       "pkatt             int64\n",
       "season            int64\n",
       "team             object\n",
       "dtype: object"
      ]
     },
     "execution_count": 12,
     "metadata": {},
     "output_type": "execute_result"
    }
   ],
   "source": [
    "df.dtypes"
   ]
  },
  {
   "cell_type": "code",
   "execution_count": 13,
   "id": "682cae56-ec42-4309-ae75-8868075a7055",
   "metadata": {
    "tags": []
   },
   "outputs": [],
   "source": [
    "import matplotlib.pyplot as plt\n",
    "import seaborn as sns"
   ]
  },
  {
   "cell_type": "code",
   "execution_count": 14,
   "id": "197d39df-f363-4436-87fe-fe46e73cb64e",
   "metadata": {
    "tags": []
   },
   "outputs": [
    {
     "data": {
      "image/png": "[encoded data removed]",
      "text/plain": [
       "<Figure size 640x480 with 1 Axes>"
      ]
     },
     "metadata": {},
     "output_type": "display_data"
    }
   ],
   "source": [
    "plt.scatter(df['sot'], df['gf'])\n",
    "plt.xlabel('Shots on Target')\n",
    "plt.ylabel('Goals For')\n",
    "plt.title('Relationship between Shots on Target and Goals For')\n",
    "plt.show()"
   ]
  },
  {
   "cell_type": "code",
   "execution_count": 15,
   "id": "0721d645-9c10-4763-a436-b98d34ac8ce8",
   "metadata": {
    "tags": []
   },
   "outputs": [
    {
     "data": {
      "image/png": "[encoded data removed]",
      "text/plain": [
       "<Figure size 800x600 with 2 Axes>"
      ]
     },
     "metadata": {},
     "output_type": "display_data"
    }
   ],
   "source": [
    "corr_matrix = df[[\"gf\",\"xg\",\"xga\",\"sh\",\"sot\",\"pk\",\"pkatt\",\"fk\"]].corr()\n",
    "plt.figure(figsize=(8, 6))\n",
    "sns.heatmap(corr_matrix, annot=True, cmap='coolwarm')\n",
    "plt.title('Correlation Heatmap between Attacking statistics')\n",
    "plt.show()"
   ]
  },
  {
   "cell_type": "code",
   "execution_count": 16,
   "id": "7120558d-5461-4f32-969c-e88817487bf5",
   "metadata": {
    "tags": []
   },
   "outputs": [],
   "source": [
    "df[\"date\"] = pd.to_datetime(df[\"date\"])"
   ]
  },
  {
   "cell_type": "code",
   "execution_count": 17,
   "id": "49cd6dfe-5e67-4253-9e6c-f4d6e2fbb918",
   "metadata": {
    "tags": []
   },
   "outputs": [],
   "source": [
    "df[\"target\"] = (df[\"result\"] == \"W\").astype(\"int\")"
   ]
  },
  {
   "cell_type": "code",
   "execution_count": 18,
   "id": "57cca561-db98-4146-bac2-afc6ef86fdfb",
   "metadata": {
    "tags": []
   },
   "outputs": [
    {
     "data": {
      "text/html": [
       "<div>\n",
       "<style scoped>\n",
       "    .dataframe tbody tr th:only-of-type {\n",
       "        vertical-align: middle;\n",
       "    }\n",
       "\n",
       "    .dataframe tbody tr th {\n",
       "        vertical-align: top;\n",
       "    }\n",
       "\n",
       "    .dataframe thead th {\n",
       "        text-align: right;\n",
       "    }\n",
       "</style>\n",
       "<table border=\"1\" class=\"dataframe\">\n",
       "  <thead>\n",
       "    <tr style=\"text-align: right;\">\n",
       "      <th></th>\n",
       "      <th>date</th>\n",
       "      <th>time</th>\n",
       "      <th>round</th>\n",
       "      <th>day</th>\n",
       "      <th>venue</th>\n",
       "      <th>result</th>\n",
       "      <th>gf</th>\n",
       "      <th>ga</th>\n",
       "      <th>opponent</th>\n",
       "      <th>xg</th>\n",
       "      <th>...</th>\n",
       "      <th>match report</th>\n",
       "      <th>sh</th>\n",
       "      <th>sot</th>\n",
       "      <th>dist</th>\n",
       "      <th>fk</th>\n",
       "      <th>pk</th>\n",
       "      <th>pkatt</th>\n",
       "      <th>season</th>\n",
       "      <th>team</th>\n",
       "      <th>target</th>\n",
       "    </tr>\n",
       "  </thead>\n",
       "  <tbody>\n",
       "    <tr>\n",
       "      <th>1</th>\n",
       "      <td>2023-08-12</td>\n",
       "      <td>12:30</td>\n",
       "      <td>Matchweek 1</td>\n",
       "      <td>Sat</td>\n",
       "      <td>Home</td>\n",
       "      <td>W</td>\n",
       "      <td>2.0</td>\n",
       "      <td>1.0</td>\n",
       "      <td>Nott'ham Forest</td>\n",
       "      <td>0.8</td>\n",
       "      <td>...</td>\n",
       "      <td>Match Report</td>\n",
       "      <td>15.0</td>\n",
       "      <td>7.0</td>\n",
       "      <td>19.1</td>\n",
       "      <td>0.0</td>\n",
       "      <td>0</td>\n",
       "      <td>0</td>\n",
       "      <td>2024</td>\n",
       "      <td>Arsenal</td>\n",
       "      <td>1</td>\n",
       "    </tr>\n",
       "    <tr>\n",
       "      <th>2</th>\n",
       "      <td>2023-08-21</td>\n",
       "      <td>20:00</td>\n",
       "      <td>Matchweek 2</td>\n",
       "      <td>Mon</td>\n",
       "      <td>Away</td>\n",
       "      <td>W</td>\n",
       "      <td>1.0</td>\n",
       "      <td>0.0</td>\n",
       "      <td>Crystal Palace</td>\n",
       "      <td>2.0</td>\n",
       "      <td>...</td>\n",
       "      <td>Match Report</td>\n",
       "      <td>13.0</td>\n",
       "      <td>2.0</td>\n",
       "      <td>16.4</td>\n",
       "      <td>0.0</td>\n",
       "      <td>1</td>\n",
       "      <td>1</td>\n",
       "      <td>2024</td>\n",
       "      <td>Arsenal</td>\n",
       "      <td>1</td>\n",
       "    </tr>\n",
       "    <tr>\n",
       "      <th>3</th>\n",
       "      <td>2023-08-26</td>\n",
       "      <td>15:00</td>\n",
       "      <td>Matchweek 3</td>\n",
       "      <td>Sat</td>\n",
       "      <td>Home</td>\n",
       "      <td>D</td>\n",
       "      <td>2.0</td>\n",
       "      <td>2.0</td>\n",
       "      <td>Fulham</td>\n",
       "      <td>3.2</td>\n",
       "      <td>...</td>\n",
       "      <td>Match Report</td>\n",
       "      <td>18.0</td>\n",
       "      <td>9.0</td>\n",
       "      <td>13.8</td>\n",
       "      <td>0.0</td>\n",
       "      <td>1</td>\n",
       "      <td>1</td>\n",
       "      <td>2024</td>\n",
       "      <td>Arsenal</td>\n",
       "      <td>0</td>\n",
       "    </tr>\n",
       "    <tr>\n",
       "      <th>4</th>\n",
       "      <td>2023-09-03</td>\n",
       "      <td>16:30</td>\n",
       "      <td>Matchweek 4</td>\n",
       "      <td>Sun</td>\n",
       "      <td>Home</td>\n",
       "      <td>W</td>\n",
       "      <td>3.0</td>\n",
       "      <td>1.0</td>\n",
       "      <td>Manchester Utd</td>\n",
       "      <td>2.3</td>\n",
       "      <td>...</td>\n",
       "      <td>Match Report</td>\n",
       "      <td>17.0</td>\n",
       "      <td>5.0</td>\n",
       "      <td>15.0</td>\n",
       "      <td>0.0</td>\n",
       "      <td>0</td>\n",
       "      <td>0</td>\n",
       "      <td>2024</td>\n",
       "      <td>Arsenal</td>\n",
       "      <td>1</td>\n",
       "    </tr>\n",
       "    <tr>\n",
       "      <th>5</th>\n",
       "      <td>2023-09-17</td>\n",
       "      <td>16:30</td>\n",
       "      <td>Matchweek 5</td>\n",
       "      <td>Sun</td>\n",
       "      <td>Away</td>\n",
       "      <td>W</td>\n",
       "      <td>1.0</td>\n",
       "      <td>0.0</td>\n",
       "      <td>Everton</td>\n",
       "      <td>1.0</td>\n",
       "      <td>...</td>\n",
       "      <td>Match Report</td>\n",
       "      <td>13.0</td>\n",
       "      <td>4.0</td>\n",
       "      <td>17.4</td>\n",
       "      <td>0.0</td>\n",
       "      <td>0</td>\n",
       "      <td>0</td>\n",
       "      <td>2024</td>\n",
       "      <td>Arsenal</td>\n",
       "      <td>1</td>\n",
       "    </tr>\n",
       "    <tr>\n",
       "      <th>...</th>\n",
       "      <td>...</td>\n",
       "      <td>...</td>\n",
       "      <td>...</td>\n",
       "      <td>...</td>\n",
       "      <td>...</td>\n",
       "      <td>...</td>\n",
       "      <td>...</td>\n",
       "      <td>...</td>\n",
       "      <td>...</td>\n",
       "      <td>...</td>\n",
       "      <td>...</td>\n",
       "      <td>...</td>\n",
       "      <td>...</td>\n",
       "      <td>...</td>\n",
       "      <td>...</td>\n",
       "      <td>...</td>\n",
       "      <td>...</td>\n",
       "      <td>...</td>\n",
       "      <td>...</td>\n",
       "      <td>...</td>\n",
       "      <td>...</td>\n",
       "    </tr>\n",
       "    <tr>\n",
       "      <th>42</th>\n",
       "      <td>2023-04-30</td>\n",
       "      <td>14:00</td>\n",
       "      <td>Matchweek 34</td>\n",
       "      <td>Sun</td>\n",
       "      <td>Away</td>\n",
       "      <td>L</td>\n",
       "      <td>1.0</td>\n",
       "      <td>3.0</td>\n",
       "      <td>Newcastle Utd</td>\n",
       "      <td>0.8</td>\n",
       "      <td>...</td>\n",
       "      <td>Match Report</td>\n",
       "      <td>4.0</td>\n",
       "      <td>3.0</td>\n",
       "      <td>17.3</td>\n",
       "      <td>0.0</td>\n",
       "      <td>0</td>\n",
       "      <td>0</td>\n",
       "      <td>2023</td>\n",
       "      <td>Southampton</td>\n",
       "      <td>0</td>\n",
       "    </tr>\n",
       "    <tr>\n",
       "      <th>43</th>\n",
       "      <td>2023-05-08</td>\n",
       "      <td>20:00</td>\n",
       "      <td>Matchweek 35</td>\n",
       "      <td>Mon</td>\n",
       "      <td>Away</td>\n",
       "      <td>L</td>\n",
       "      <td>3.0</td>\n",
       "      <td>4.0</td>\n",
       "      <td>Nott'ham Forest</td>\n",
       "      <td>3.1</td>\n",
       "      <td>...</td>\n",
       "      <td>Match Report</td>\n",
       "      <td>18.0</td>\n",
       "      <td>4.0</td>\n",
       "      <td>14.0</td>\n",
       "      <td>0.0</td>\n",
       "      <td>1</td>\n",
       "      <td>1</td>\n",
       "      <td>2023</td>\n",
       "      <td>Southampton</td>\n",
       "      <td>0</td>\n",
       "    </tr>\n",
       "    <tr>\n",
       "      <th>44</th>\n",
       "      <td>2023-05-13</td>\n",
       "      <td>15:00</td>\n",
       "      <td>Matchweek 36</td>\n",
       "      <td>Sat</td>\n",
       "      <td>Home</td>\n",
       "      <td>L</td>\n",
       "      <td>0.0</td>\n",
       "      <td>2.0</td>\n",
       "      <td>Fulham</td>\n",
       "      <td>0.4</td>\n",
       "      <td>...</td>\n",
       "      <td>Match Report</td>\n",
       "      <td>5.0</td>\n",
       "      <td>1.0</td>\n",
       "      <td>24.2</td>\n",
       "      <td>0.0</td>\n",
       "      <td>0</td>\n",
       "      <td>0</td>\n",
       "      <td>2023</td>\n",
       "      <td>Southampton</td>\n",
       "      <td>0</td>\n",
       "    </tr>\n",
       "    <tr>\n",
       "      <th>45</th>\n",
       "      <td>2023-05-21</td>\n",
       "      <td>14:00</td>\n",
       "      <td>Matchweek 37</td>\n",
       "      <td>Sun</td>\n",
       "      <td>Away</td>\n",
       "      <td>L</td>\n",
       "      <td>1.0</td>\n",
       "      <td>3.0</td>\n",
       "      <td>Brighton</td>\n",
       "      <td>0.6</td>\n",
       "      <td>...</td>\n",
       "      <td>Match Report</td>\n",
       "      <td>5.0</td>\n",
       "      <td>1.0</td>\n",
       "      <td>13.8</td>\n",
       "      <td>1.0</td>\n",
       "      <td>0</td>\n",
       "      <td>0</td>\n",
       "      <td>2023</td>\n",
       "      <td>Southampton</td>\n",
       "      <td>0</td>\n",
       "    </tr>\n",
       "    <tr>\n",
       "      <th>46</th>\n",
       "      <td>2023-05-28</td>\n",
       "      <td>16:30</td>\n",
       "      <td>Matchweek 38</td>\n",
       "      <td>Sun</td>\n",
       "      <td>Home</td>\n",
       "      <td>D</td>\n",
       "      <td>4.0</td>\n",
       "      <td>4.0</td>\n",
       "      <td>Liverpool</td>\n",
       "      <td>1.8</td>\n",
       "      <td>...</td>\n",
       "      <td>Match Report</td>\n",
       "      <td>15.0</td>\n",
       "      <td>10.0</td>\n",
       "      <td>17.5</td>\n",
       "      <td>1.0</td>\n",
       "      <td>0</td>\n",
       "      <td>0</td>\n",
       "      <td>2023</td>\n",
       "      <td>Southampton</td>\n",
       "      <td>0</td>\n",
       "    </tr>\n",
       "  </tbody>\n",
       "</table>\n",
       "<p>1420 rows × 26 columns</p>\n",
       "</div>"
      ],
      "text/plain": [
       "         date   time         round  day venue result   gf   ga  \\\n",
       "1  2023-08-12  12:30   Matchweek 1  Sat  Home      W  2.0  1.0   \n",
       "2  2023-08-21  20:00   Matchweek 2  Mon  Away      W  1.0  0.0   \n",
       "3  2023-08-26  15:00   Matchweek 3  Sat  Home      D  2.0  2.0   \n",
       "4  2023-09-03  16:30   Matchweek 4  Sun  Home      W  3.0  1.0   \n",
       "5  2023-09-17  16:30   Matchweek 5  Sun  Away      W  1.0  0.0   \n",
       "..        ...    ...           ...  ...   ...    ...  ...  ...   \n",
       "42 2023-04-30  14:00  Matchweek 34  Sun  Away      L  1.0  3.0   \n",
       "43 2023-05-08  20:00  Matchweek 35  Mon  Away      L  3.0  4.0   \n",
       "44 2023-05-13  15:00  Matchweek 36  Sat  Home      L  0.0  2.0   \n",
       "45 2023-05-21  14:00  Matchweek 37  Sun  Away      L  1.0  3.0   \n",
       "46 2023-05-28  16:30  Matchweek 38  Sun  Home      D  4.0  4.0   \n",
       "\n",
       "           opponent   xg  ...  match report    sh   sot  dist   fk pk pkatt  \\\n",
       "1   Nott'ham Forest  0.8  ...  Match Report  15.0   7.0  19.1  0.0  0     0   \n",
       "2    Crystal Palace  2.0  ...  Match Report  13.0   2.0  16.4  0.0  1     1   \n",
       "3            Fulham  3.2  ...  Match Report  18.0   9.0  13.8  0.0  1     1   \n",
       "4    Manchester Utd  2.3  ...  Match Report  17.0   5.0  15.0  0.0  0     0   \n",
       "5           Everton  1.0  ...  Match Report  13.0   4.0  17.4  0.0  0     0   \n",
       "..              ...  ...  ...           ...   ...   ...   ...  ... ..   ...   \n",
       "42    Newcastle Utd  0.8  ...  Match Report   4.0   3.0  17.3  0.0  0     0   \n",
       "43  Nott'ham Forest  3.1  ...  Match Report  18.0   4.0  14.0  0.0  1     1   \n",
       "44           Fulham  0.4  ...  Match Report   5.0   1.0  24.2  0.0  0     0   \n",
       "45         Brighton  0.6  ...  Match Report   5.0   1.0  13.8  1.0  0     0   \n",
       "46        Liverpool  1.8  ...  Match Report  15.0  10.0  17.5  1.0  0     0   \n",
       "\n",
       "    season         team  target  \n",
       "1     2024      Arsenal       1  \n",
       "2     2024      Arsenal       1  \n",
       "3     2024      Arsenal       0  \n",
       "4     2024      Arsenal       1  \n",
       "5     2024      Arsenal       1  \n",
       "..     ...          ...     ...  \n",
       "42    2023  Southampton       0  \n",
       "43    2023  Southampton       0  \n",
       "44    2023  Southampton       0  \n",
       "45    2023  Southampton       0  \n",
       "46    2023  Southampton       0  \n",
       "\n",
       "[1420 rows x 26 columns]"
      ]
     },
     "execution_count": 18,
     "metadata": {},
     "output_type": "execute_result"
    }
   ],
   "source": [
    "df"
   ]
  },
  {
   "cell_type": "code",
   "execution_count": 19,
   "id": "6a4155d5-2771-4909-801d-1c758e0324a1",
   "metadata": {
    "tags": []
   },
   "outputs": [],
   "source": [
    "df[\"venue_code\"] = df[\"venue\"].astype(\"category\").cat.codes"
   ]
  },
  {
   "cell_type": "code",
   "execution_count": 20,
   "id": "8f5f47db-5f35-4a11-a59d-f7c8194ec4cb",
   "metadata": {
    "tags": []
   },
   "outputs": [],
   "source": [
    "df[\"opp_code\"] = df[\"opponent\"].astype(\"category\").cat.codes"
   ]
  },
  {
   "cell_type": "code",
   "execution_count": 21,
   "id": "2198ffa7-0e06-4430-b988-3166e33b65f4",
   "metadata": {
    "tags": []
   },
   "outputs": [],
   "source": [
    "df[\"hour\"] = df[\"time\"].str.replace(\":.+\", \"\", regex=True).astype(\"int\")"
   ]
  },
  {
   "cell_type": "code",
   "execution_count": 22,
   "id": "a034b8a7-4820-42d0-b1b2-47816a9ce751",
   "metadata": {
    "tags": []
   },
   "outputs": [
    {
     "data": {
      "text/plain": [
       "array(['Sat', 'Mon', 'Sun', 'Tue', 'Thu', 'Wed', 'Fri'], dtype=object)"
      ]
     },
     "execution_count": 22,
     "metadata": {},
     "output_type": "execute_result"
    }
   ],
   "source": [
    "df['day'].unique()"
   ]
  },
  {
   "cell_type": "code",
   "execution_count": 23,
   "id": "b44fea10-6753-46c9-90bb-76aee9111607",
   "metadata": {
    "tags": []
   },
   "outputs": [],
   "source": [
    "df[\"day_code\"] = df[\"date\"].dt.dayofweek"
   ]
  },
  {
   "cell_type": "code",
   "execution_count": 24,
   "id": "25636d68-933c-497b-a1e0-56dc5c3bc7ac",
   "metadata": {
    "tags": []
   },
   "outputs": [
    {
     "data": {
      "text/html": [
       "<div>\n",
       "<style scoped>\n",
       "    .dataframe tbody tr th:only-of-type {\n",
       "        vertical-align: middle;\n",
       "    }\n",
       "\n",
       "    .dataframe tbody tr th {\n",
       "        vertical-align: top;\n",
       "    }\n",
       "\n",
       "    .dataframe thead th {\n",
       "        text-align: right;\n",
       "    }\n",
       "</style>\n",
       "<table border=\"1\" class=\"dataframe\">\n",
       "  <thead>\n",
       "    <tr style=\"text-align: right;\">\n",
       "      <th></th>\n",
       "      <th>date</th>\n",
       "      <th>time</th>\n",
       "      <th>round</th>\n",
       "      <th>day</th>\n",
       "      <th>venue</th>\n",
       "      <th>result</th>\n",
       "      <th>gf</th>\n",
       "      <th>ga</th>\n",
       "      <th>opponent</th>\n",
       "      <th>xg</th>\n",
       "      <th>...</th>\n",
       "      <th>fk</th>\n",
       "      <th>pk</th>\n",
       "      <th>pkatt</th>\n",
       "      <th>season</th>\n",
       "      <th>team</th>\n",
       "      <th>target</th>\n",
       "      <th>venue_code</th>\n",
       "      <th>opp_code</th>\n",
       "      <th>hour</th>\n",
       "      <th>day_code</th>\n",
       "    </tr>\n",
       "  </thead>\n",
       "  <tbody>\n",
       "    <tr>\n",
       "      <th>1</th>\n",
       "      <td>2023-08-12</td>\n",
       "      <td>12:30</td>\n",
       "      <td>Matchweek 1</td>\n",
       "      <td>Sat</td>\n",
       "      <td>Home</td>\n",
       "      <td>W</td>\n",
       "      <td>2.0</td>\n",
       "      <td>1.0</td>\n",
       "      <td>Nott'ham Forest</td>\n",
       "      <td>0.8</td>\n",
       "      <td>...</td>\n",
       "      <td>0.0</td>\n",
       "      <td>0</td>\n",
       "      <td>0</td>\n",
       "      <td>2024</td>\n",
       "      <td>Arsenal</td>\n",
       "      <td>1</td>\n",
       "      <td>1</td>\n",
       "      <td>17</td>\n",
       "      <td>12</td>\n",
       "      <td>5</td>\n",
       "    </tr>\n",
       "    <tr>\n",
       "      <th>2</th>\n",
       "      <td>2023-08-21</td>\n",
       "      <td>20:00</td>\n",
       "      <td>Matchweek 2</td>\n",
       "      <td>Mon</td>\n",
       "      <td>Away</td>\n",
       "      <td>W</td>\n",
       "      <td>1.0</td>\n",
       "      <td>0.0</td>\n",
       "      <td>Crystal Palace</td>\n",
       "      <td>2.0</td>\n",
       "      <td>...</td>\n",
       "      <td>0.0</td>\n",
       "      <td>1</td>\n",
       "      <td>1</td>\n",
       "      <td>2024</td>\n",
       "      <td>Arsenal</td>\n",
       "      <td>1</td>\n",
       "      <td>0</td>\n",
       "      <td>7</td>\n",
       "      <td>20</td>\n",
       "      <td>0</td>\n",
       "    </tr>\n",
       "    <tr>\n",
       "      <th>3</th>\n",
       "      <td>2023-08-26</td>\n",
       "      <td>15:00</td>\n",
       "      <td>Matchweek 3</td>\n",
       "      <td>Sat</td>\n",
       "      <td>Home</td>\n",
       "      <td>D</td>\n",
       "      <td>2.0</td>\n",
       "      <td>2.0</td>\n",
       "      <td>Fulham</td>\n",
       "      <td>3.2</td>\n",
       "      <td>...</td>\n",
       "      <td>0.0</td>\n",
       "      <td>1</td>\n",
       "      <td>1</td>\n",
       "      <td>2024</td>\n",
       "      <td>Arsenal</td>\n",
       "      <td>0</td>\n",
       "      <td>1</td>\n",
       "      <td>9</td>\n",
       "      <td>15</td>\n",
       "      <td>5</td>\n",
       "    </tr>\n",
       "    <tr>\n",
       "      <th>4</th>\n",
       "      <td>2023-09-03</td>\n",
       "      <td>16:30</td>\n",
       "      <td>Matchweek 4</td>\n",
       "      <td>Sun</td>\n",
       "      <td>Home</td>\n",
       "      <td>W</td>\n",
       "      <td>3.0</td>\n",
       "      <td>1.0</td>\n",
       "      <td>Manchester Utd</td>\n",
       "      <td>2.3</td>\n",
       "      <td>...</td>\n",
       "      <td>0.0</td>\n",
       "      <td>0</td>\n",
       "      <td>0</td>\n",
       "      <td>2024</td>\n",
       "      <td>Arsenal</td>\n",
       "      <td>1</td>\n",
       "      <td>1</td>\n",
       "      <td>15</td>\n",
       "      <td>16</td>\n",
       "      <td>6</td>\n",
       "    </tr>\n",
       "    <tr>\n",
       "      <th>5</th>\n",
       "      <td>2023-09-17</td>\n",
       "      <td>16:30</td>\n",
       "      <td>Matchweek 5</td>\n",
       "      <td>Sun</td>\n",
       "      <td>Away</td>\n",
       "      <td>W</td>\n",
       "      <td>1.0</td>\n",
       "      <td>0.0</td>\n",
       "      <td>Everton</td>\n",
       "      <td>1.0</td>\n",
       "      <td>...</td>\n",
       "      <td>0.0</td>\n",
       "      <td>0</td>\n",
       "      <td>0</td>\n",
       "      <td>2024</td>\n",
       "      <td>Arsenal</td>\n",
       "      <td>1</td>\n",
       "      <td>0</td>\n",
       "      <td>8</td>\n",
       "      <td>16</td>\n",
       "      <td>6</td>\n",
       "    </tr>\n",
       "    <tr>\n",
       "      <th>...</th>\n",
       "      <td>...</td>\n",
       "      <td>...</td>\n",
       "      <td>...</td>\n",
       "      <td>...</td>\n",
       "      <td>...</td>\n",
       "      <td>...</td>\n",
       "      <td>...</td>\n",
       "      <td>...</td>\n",
       "      <td>...</td>\n",
       "      <td>...</td>\n",
       "      <td>...</td>\n",
       "      <td>...</td>\n",
       "      <td>...</td>\n",
       "      <td>...</td>\n",
       "      <td>...</td>\n",
       "      <td>...</td>\n",
       "      <td>...</td>\n",
       "      <td>...</td>\n",
       "      <td>...</td>\n",
       "      <td>...</td>\n",
       "      <td>...</td>\n",
       "    </tr>\n",
       "    <tr>\n",
       "      <th>42</th>\n",
       "      <td>2023-04-30</td>\n",
       "      <td>14:00</td>\n",
       "      <td>Matchweek 34</td>\n",
       "      <td>Sun</td>\n",
       "      <td>Away</td>\n",
       "      <td>L</td>\n",
       "      <td>1.0</td>\n",
       "      <td>3.0</td>\n",
       "      <td>Newcastle Utd</td>\n",
       "      <td>0.8</td>\n",
       "      <td>...</td>\n",
       "      <td>0.0</td>\n",
       "      <td>0</td>\n",
       "      <td>0</td>\n",
       "      <td>2023</td>\n",
       "      <td>Southampton</td>\n",
       "      <td>0</td>\n",
       "      <td>0</td>\n",
       "      <td>16</td>\n",
       "      <td>14</td>\n",
       "      <td>6</td>\n",
       "    </tr>\n",
       "    <tr>\n",
       "      <th>43</th>\n",
       "      <td>2023-05-08</td>\n",
       "      <td>20:00</td>\n",
       "      <td>Matchweek 35</td>\n",
       "      <td>Mon</td>\n",
       "      <td>Away</td>\n",
       "      <td>L</td>\n",
       "      <td>3.0</td>\n",
       "      <td>4.0</td>\n",
       "      <td>Nott'ham Forest</td>\n",
       "      <td>3.1</td>\n",
       "      <td>...</td>\n",
       "      <td>0.0</td>\n",
       "      <td>1</td>\n",
       "      <td>1</td>\n",
       "      <td>2023</td>\n",
       "      <td>Southampton</td>\n",
       "      <td>0</td>\n",
       "      <td>0</td>\n",
       "      <td>17</td>\n",
       "      <td>20</td>\n",
       "      <td>0</td>\n",
       "    </tr>\n",
       "    <tr>\n",
       "      <th>44</th>\n",
       "      <td>2023-05-13</td>\n",
       "      <td>15:00</td>\n",
       "      <td>Matchweek 36</td>\n",
       "      <td>Sat</td>\n",
       "      <td>Home</td>\n",
       "      <td>L</td>\n",
       "      <td>0.0</td>\n",
       "      <td>2.0</td>\n",
       "      <td>Fulham</td>\n",
       "      <td>0.4</td>\n",
       "      <td>...</td>\n",
       "      <td>0.0</td>\n",
       "      <td>0</td>\n",
       "      <td>0</td>\n",
       "      <td>2023</td>\n",
       "      <td>Southampton</td>\n",
       "      <td>0</td>\n",
       "      <td>1</td>\n",
       "      <td>9</td>\n",
       "      <td>15</td>\n",
       "      <td>5</td>\n",
       "    </tr>\n",
       "    <tr>\n",
       "      <th>45</th>\n",
       "      <td>2023-05-21</td>\n",
       "      <td>14:00</td>\n",
       "      <td>Matchweek 37</td>\n",
       "      <td>Sun</td>\n",
       "      <td>Away</td>\n",
       "      <td>L</td>\n",
       "      <td>1.0</td>\n",
       "      <td>3.0</td>\n",
       "      <td>Brighton</td>\n",
       "      <td>0.6</td>\n",
       "      <td>...</td>\n",
       "      <td>1.0</td>\n",
       "      <td>0</td>\n",
       "      <td>0</td>\n",
       "      <td>2023</td>\n",
       "      <td>Southampton</td>\n",
       "      <td>0</td>\n",
       "      <td>0</td>\n",
       "      <td>4</td>\n",
       "      <td>14</td>\n",
       "      <td>6</td>\n",
       "    </tr>\n",
       "    <tr>\n",
       "      <th>46</th>\n",
       "      <td>2023-05-28</td>\n",
       "      <td>16:30</td>\n",
       "      <td>Matchweek 38</td>\n",
       "      <td>Sun</td>\n",
       "      <td>Home</td>\n",
       "      <td>D</td>\n",
       "      <td>4.0</td>\n",
       "      <td>4.0</td>\n",
       "      <td>Liverpool</td>\n",
       "      <td>1.8</td>\n",
       "      <td>...</td>\n",
       "      <td>1.0</td>\n",
       "      <td>0</td>\n",
       "      <td>0</td>\n",
       "      <td>2023</td>\n",
       "      <td>Southampton</td>\n",
       "      <td>0</td>\n",
       "      <td>1</td>\n",
       "      <td>12</td>\n",
       "      <td>16</td>\n",
       "      <td>6</td>\n",
       "    </tr>\n",
       "  </tbody>\n",
       "</table>\n",
       "<p>1420 rows × 30 columns</p>\n",
       "</div>"
      ],
      "text/plain": [
       "         date   time         round  day venue result   gf   ga  \\\n",
       "1  2023-08-12  12:30   Matchweek 1  Sat  Home      W  2.0  1.0   \n",
       "2  2023-08-21  20:00   Matchweek 2  Mon  Away      W  1.0  0.0   \n",
       "3  2023-08-26  15:00   Matchweek 3  Sat  Home      D  2.0  2.0   \n",
       "4  2023-09-03  16:30   Matchweek 4  Sun  Home      W  3.0  1.0   \n",
       "5  2023-09-17  16:30   Matchweek 5  Sun  Away      W  1.0  0.0   \n",
       "..        ...    ...           ...  ...   ...    ...  ...  ...   \n",
       "42 2023-04-30  14:00  Matchweek 34  Sun  Away      L  1.0  3.0   \n",
       "43 2023-05-08  20:00  Matchweek 35  Mon  Away      L  3.0  4.0   \n",
       "44 2023-05-13  15:00  Matchweek 36  Sat  Home      L  0.0  2.0   \n",
       "45 2023-05-21  14:00  Matchweek 37  Sun  Away      L  1.0  3.0   \n",
       "46 2023-05-28  16:30  Matchweek 38  Sun  Home      D  4.0  4.0   \n",
       "\n",
       "           opponent   xg  ...   fk  pk  pkatt season         team target  \\\n",
       "1   Nott'ham Forest  0.8  ...  0.0   0      0   2024      Arsenal      1   \n",
       "2    Crystal Palace  2.0  ...  0.0   1      1   2024      Arsenal      1   \n",
       "3            Fulham  3.2  ...  0.0   1      1   2024      Arsenal      0   \n",
       "4    Manchester Utd  2.3  ...  0.0   0      0   2024      Arsenal      1   \n",
       "5           Everton  1.0  ...  0.0   0      0   2024      Arsenal      1   \n",
       "..              ...  ...  ...  ...  ..    ...    ...          ...    ...   \n",
       "42    Newcastle Utd  0.8  ...  0.0   0      0   2023  Southampton      0   \n",
       "43  Nott'ham Forest  3.1  ...  0.0   1      1   2023  Southampton      0   \n",
       "44           Fulham  0.4  ...  0.0   0      0   2023  Southampton      0   \n",
       "45         Brighton  0.6  ...  1.0   0      0   2023  Southampton      0   \n",
       "46        Liverpool  1.8  ...  1.0   0      0   2023  Southampton      0   \n",
       "\n",
       "   venue_code  opp_code  hour  day_code  \n",
       "1           1        17    12         5  \n",
       "2           0         7    20         0  \n",
       "3           1         9    15         5  \n",
       "4           1        15    16         6  \n",
       "5           0         8    16         6  \n",
       "..        ...       ...   ...       ...  \n",
       "42          0        16    14         6  \n",
       "43          0        17    20         0  \n",
       "44          1         9    15         5  \n",
       "45          0         4    14         6  \n",
       "46          1        12    16         6  \n",
       "\n",
       "[1420 rows x 30 columns]"
      ]
     },
     "execution_count": 24,
     "metadata": {},
     "output_type": "execute_result"
    }
   ],
   "source": [
    "df"
   ]
  },
  {
   "cell_type": "code",
   "execution_count": 25,
   "id": "ee5ac4a7-c9e1-4bb3-8283-ac44ab848636",
   "metadata": {
    "tags": []
   },
   "outputs": [
    {
     "data": {
      "text/plain": [
       "(1420, 30)"
      ]
     },
     "execution_count": 25,
     "metadata": {},
     "output_type": "execute_result"
    }
   ],
   "source": [
    "df.shape"
   ]
  },
  {
   "cell_type": "code",
   "execution_count": 26,
   "id": "28b49267-efa0-4ba9-9042-f7dd5f17de4e",
   "metadata": {
    "tags": []
   },
   "outputs": [],
   "source": [
    "from sklearn.ensemble import RandomForestClassifier"
   ]
  },
  {
   "cell_type": "code",
   "execution_count": 27,
   "id": "40bc2deb-6de1-450c-abf0-4ecae2c5ca27",
   "metadata": {
    "tags": []
   },
   "outputs": [],
   "source": [
    "rf = RandomForestClassifier(n_estimators=50, min_samples_split=10, random_state=1)"
   ]
  },
  {
   "cell_type": "code",
   "execution_count": 28,
   "id": "4f4bd9f0-1fe1-4b51-8179-1733e9542305",
   "metadata": {
    "tags": []
   },
   "outputs": [],
   "source": [
    "train = df[df[\"date\"] < '2024-01-01']"
   ]
  },
  {
   "cell_type": "code",
   "execution_count": 29,
   "id": "dff959c3-646e-4aa8-93ea-ac32dc0f86bb",
   "metadata": {
    "tags": []
   },
   "outputs": [],
   "source": [
    "test = df[df[\"date\"] > '2024-01-01']"
   ]
  },
  {
   "cell_type": "code",
   "execution_count": 30,
   "id": "6f6ea030-17c1-4658-a6b1-d2e4dcdc2372",
   "metadata": {
    "tags": []
   },
   "outputs": [],
   "source": [
    "predictors = [\"gf\",\"xg\",\"xga\",\"sh\",\"sot\",\"pk\",\"pkatt\",\"fk\",\"opp_code\", \"venue_code\", \"hour\", \"day_code\"]"
   ]
  },
  {
   "cell_type": "code",
   "execution_count": 31,
   "id": "b1f965d9-1198-4108-80c7-354e5e22652a",
   "metadata": {
    "tags": []
   },
   "outputs": [
    {
     "data": {
      "text/html": [
       "<style>#sk-container-id-1 {color: black;}#sk-container-id-1 pre{padding: 0;}#sk-container-id-1 div.sk-toggleable {background-color: white;}#sk-container-id-1 label.sk-toggleable__label {cursor: pointer;display: block;width: 100%;margin-bottom: 0;padding: 0.3em;box-sizing: border-box;text-align: center;}#sk-container-id-1 label.sk-toggleable__label-arrow:before {content: \"▸\";float: left;margin-right: 0.25em;color: #696969;}#sk-container-id-1 label.sk-toggleable__label-arrow:hover:before {color: black;}#sk-container-id-1 div.sk-estimator:hover label.sk-toggleable__label-arrow:before {color: black;}#sk-container-id-1 div.sk-toggleable__content {max-height: 0;max-width: 0;overflow: hidden;text-align: left;background-color: #f0f8ff;}#sk-container-id-1 div.sk-toggleable__content pre {margin: 0.2em;color: black;border-radius: 0.25em;background-color: #f0f8ff;}#sk-container-id-1 input.sk-toggleable__control:checked~div.sk-toggleable__content {max-height: 200px;max-width: 100%;overflow: auto;}#sk-container-id-1 input.sk-toggleable__control:checked~label.sk-toggleable__label-arrow:before {content: \"▾\";}#sk-container-id-1 div.sk-estimator input.sk-toggleable__control:checked~label.sk-toggleable__label {background-color: #d4ebff;}#sk-container-id-1 div.sk-label input.sk-toggleable__control:checked~label.sk-toggleable__label {background-color: #d4ebff;}#sk-container-id-1 input.sk-hidden--visually {border: 0;clip: rect(1px 1px 1px 1px);clip: rect(1px, 1px, 1px, 1px);height: 1px;margin: -1px;overflow: hidden;padding: 0;position: absolute;width: 1px;}#sk-container-id-1 div.sk-estimator {font-family: monospace;background-color: #f0f8ff;border: 1px dotted black;border-radius: 0.25em;box-sizing: border-box;margin-bottom: 0.5em;}#sk-container-id-1 div.sk-estimator:hover {background-color: #d4ebff;}#sk-container-id-1 div.sk-parallel-item::after {content: \"\";width: 100%;border-bottom: 1px solid gray;flex-grow: 1;}#sk-container-id-1 div.sk-label:hover label.sk-toggleable__label {background-color: #d4ebff;}#sk-container-id-1 div.sk-serial::before {content: \"\";position: absolute;border-left: 1px solid gray;box-sizing: border-box;top: 0;bottom: 0;left: 50%;z-index: 0;}#sk-container-id-1 div.sk-serial {display: flex;flex-direction: column;align-items: center;background-color: white;padding-right: 0.2em;padding-left: 0.2em;position: relative;}#sk-container-id-1 div.sk-item {position: relative;z-index: 1;}#sk-container-id-1 div.sk-parallel {display: flex;align-items: stretch;justify-content: center;background-color: white;position: relative;}#sk-container-id-1 div.sk-item::before, #sk-container-id-1 div.sk-parallel-item::before {content: \"\";position: absolute;border-left: 1px solid gray;box-sizing: border-box;top: 0;bottom: 0;left: 50%;z-index: -1;}#sk-container-id-1 div.sk-parallel-item {display: flex;flex-direction: column;z-index: 1;position: relative;background-color: white;}#sk-container-id-1 div.sk-parallel-item:first-child::after {align-self: flex-end;width: 50%;}#sk-container-id-1 div.sk-parallel-item:last-child::after {align-self: flex-start;width: 50%;}#sk-container-id-1 div.sk-parallel-item:only-child::after {width: 0;}#sk-container-id-1 div.sk-dashed-wrapped {border: 1px dashed gray;margin: 0 0.4em 0.5em 0.4em;box-sizing: border-box;padding-bottom: 0.4em;background-color: white;}#sk-container-id-1 div.sk-label label {font-family: monospace;font-weight: bold;display: inline-block;line-height: 1.2em;}#sk-container-id-1 div.sk-label-container {text-align: center;}#sk-container-id-1 div.sk-container {/* jupyter's `normalize.less` sets `[hidden] { display: none; }` but bootstrap.min.css set `[hidden] { display: none !important; }` so we also need the `!important` here to be able to override the default hidden behavior on the sphinx rendered scikit-learn.org. See: https://github.com/scikit-learn/scikit-learn/issues/21755 */display: inline-block !important;position: relative;}#sk-container-id-1 div.sk-text-repr-fallback {display: none;}</style><div id=\"sk-container-id-1\" class=\"sk-top-container\"><div class=\"sk-text-repr-fallback\"><pre>RandomForestClassifier(min_samples_split=10, n_estimators=50, random_state=1)</pre><b>In a Jupyter environment, please rerun this cell to show the HTML representation or trust the notebook. <br />On GitHub, the HTML representation is unable to render, please try loading this page with nbviewer.org.</b></div><div class=\"sk-container\" hidden><div class=\"sk-item\"><div class=\"sk-estimator sk-toggleable\"><input class=\"sk-toggleable__control sk-hidden--visually\" id=\"sk-estimator-id-1\" type=\"checkbox\" checked><label for=\"sk-estimator-id-1\" class=\"sk-toggleable__label sk-toggleable__label-arrow\">RandomForestClassifier</label><div class=\"sk-toggleable__content\"><pre>RandomForestClassifier(min_samples_split=10, n_estimators=50, random_state=1)</pre></div></div></div></div></div>"
      ],
      "text/plain": [
       "RandomForestClassifier(min_samples_split=10, n_estimators=50, random_state=1)"
      ]
     },
     "execution_count": 31,
     "metadata": {},
     "output_type": "execute_result"
    }
   ],
   "source": [
    "rf.fit(train[predictors], train[\"target\"])"
   ]
  },
  {
   "cell_type": "code",
   "execution_count": 32,
   "id": "69a7e5d4-e29c-49c1-9fe9-d2b9becc4335",
   "metadata": {
    "tags": []
   },
   "outputs": [],
   "source": [
    "pred_rf = rf.predict(test[predictors])"
   ]
  },
  {
   "cell_type": "code",
   "execution_count": 33,
   "id": "8828b502-d563-43cd-a406-af40495c564d",
   "metadata": {
    "tags": []
   },
   "outputs": [],
   "source": [
    "from sklearn.metrics import accuracy_score"
   ]
  },
  {
   "cell_type": "code",
   "execution_count": 34,
   "id": "d407bc8e-05fc-4bbc-a2c2-9441e5f73f4f",
   "metadata": {
    "tags": []
   },
   "outputs": [],
   "source": [
    "acc_rf = accuracy_score(test[\"target\"], pred_rf)"
   ]
  },
  {
   "cell_type": "code",
   "execution_count": 35,
   "id": "204a3470-e5d5-4401-a936-30f02e9326d4",
   "metadata": {
    "tags": []
   },
   "outputs": [
    {
     "data": {
      "text/plain": [
       "0.8647"
      ]
     },
     "execution_count": 35,
     "metadata": {},
     "output_type": "execute_result"
    }
   ],
   "source": [
    "round(acc_rf, 4)"
   ]
  },
  {
   "cell_type": "code",
   "execution_count": 36,
   "id": "2972bf3d-cda6-4d27-a765-f027d7657710",
   "metadata": {
    "tags": []
   },
   "outputs": [],
   "source": [
    "combined = pd.DataFrame(dict(actual=test[\"target\"], predicted=pred_rf))"
   ]
  },
  {
   "cell_type": "code",
   "execution_count": 37,
   "id": "c1fdd697-4c7e-46e7-a4ea-1614b75ccd66",
   "metadata": {
    "tags": []
   },
   "outputs": [
    {
     "data": {
      "text/html": [
       "<div>\n",
       "<style scoped>\n",
       "    .dataframe tbody tr th:only-of-type {\n",
       "        vertical-align: middle;\n",
       "    }\n",
       "\n",
       "    .dataframe tbody tr th {\n",
       "        vertical-align: top;\n",
       "    }\n",
       "\n",
       "    .dataframe thead th {\n",
       "        text-align: right;\n",
       "    }\n",
       "</style>\n",
       "<table border=\"1\" class=\"dataframe\">\n",
       "  <thead>\n",
       "    <tr style=\"text-align: right;\">\n",
       "      <th>predicted</th>\n",
       "      <th>0</th>\n",
       "      <th>1</th>\n",
       "    </tr>\n",
       "    <tr>\n",
       "      <th>actual</th>\n",
       "      <th></th>\n",
       "      <th></th>\n",
       "    </tr>\n",
       "  </thead>\n",
       "  <tbody>\n",
       "    <tr>\n",
       "      <th>0</th>\n",
       "      <td>149</td>\n",
       "      <td>22</td>\n",
       "    </tr>\n",
       "    <tr>\n",
       "      <th>1</th>\n",
       "      <td>14</td>\n",
       "      <td>81</td>\n",
       "    </tr>\n",
       "  </tbody>\n",
       "</table>\n",
       "</div>"
      ],
      "text/plain": [
       "predicted    0   1\n",
       "actual            \n",
       "0          149  22\n",
       "1           14  81"
      ]
     },
     "execution_count": 37,
     "metadata": {},
     "output_type": "execute_result"
    }
   ],
   "source": [
    "pd.crosstab(index=combined[\"actual\"], columns=combined[\"predicted\"])"
   ]
  },
  {
   "cell_type": "code",
   "execution_count": 38,
   "id": "f38e35a0-f17a-401a-8ccc-e83837498227",
   "metadata": {
    "tags": []
   },
   "outputs": [],
   "source": [
    "from sklearn.metrics import precision_score, recall_score"
   ]
  },
  {
   "cell_type": "code",
   "execution_count": 39,
   "id": "7144c25b-2a68-4372-8cb3-e8b31b009016",
   "metadata": {
    "tags": []
   },
   "outputs": [
    {
     "data": {
      "text/plain": [
       "0.7864"
      ]
     },
     "execution_count": 39,
     "metadata": {},
     "output_type": "execute_result"
    }
   ],
   "source": [
    "round(precision_score(test[\"target\"], pred_rf), 4)"
   ]
  },
  {
   "cell_type": "code",
   "execution_count": 40,
   "id": "ae2930a6-c539-4249-a6ea-9768cbfe1c18",
   "metadata": {
    "tags": []
   },
   "outputs": [
    {
     "data": {
      "text/plain": [
       "0.8526"
      ]
     },
     "execution_count": 40,
     "metadata": {},
     "output_type": "execute_result"
    }
   ],
   "source": [
    "round(recall_score(test[\"target\"],pred_rf), 4)"
   ]
  },
  {
   "cell_type": "code",
   "execution_count": 41,
   "id": "1ff6f064-acdb-4b9f-9da8-d005ed6fb56b",
   "metadata": {
    "tags": []
   },
   "outputs": [],
   "source": [
    "import xgboost as xgb"
   ]
  },
  {
   "cell_type": "code",
   "execution_count": 42,
   "id": "af923cd0-785b-4392-a175-c2eeaa31a88b",
   "metadata": {
    "tags": []
   },
   "outputs": [],
   "source": [
    "xgb_model = xgb.XGBClassifier(random_state=42)"
   ]
  },
  {
   "cell_type": "code",
   "execution_count": 43,
   "id": "3c2f867a-581d-4553-a335-1a6d5f1a0527",
   "metadata": {
    "tags": []
   },
   "outputs": [
    {
     "data": {
      "text/html": [
       "<style>#sk-container-id-2 {color: black;}#sk-container-id-2 pre{padding: 0;}#sk-container-id-2 div.sk-toggleable {background-color: white;}#sk-container-id-2 label.sk-toggleable__label {cursor: pointer;display: block;width: 100%;margin-bottom: 0;padding: 0.3em;box-sizing: border-box;text-align: center;}#sk-container-id-2 label.sk-toggleable__label-arrow:before {content: \"▸\";float: left;margin-right: 0.25em;color: #696969;}#sk-container-id-2 label.sk-toggleable__label-arrow:hover:before {color: black;}#sk-container-id-2 div.sk-estimator:hover label.sk-toggleable__label-arrow:before {color: black;}#sk-container-id-2 div.sk-toggleable__content {max-height: 0;max-width: 0;overflow: hidden;text-align: left;background-color: #f0f8ff;}#sk-container-id-2 div.sk-toggleable__content pre {margin: 0.2em;color: black;border-radius: 0.25em;background-color: #f0f8ff;}#sk-container-id-2 input.sk-toggleable__control:checked~div.sk-toggleable__content {max-height: 200px;max-width: 100%;overflow: auto;}#sk-container-id-2 input.sk-toggleable__control:checked~label.sk-toggleable__label-arrow:before {content: \"▾\";}#sk-container-id-2 div.sk-estimator input.sk-toggleable__control:checked~label.sk-toggleable__label {background-color: #d4ebff;}#sk-container-id-2 div.sk-label input.sk-toggleable__control:checked~label.sk-toggleable__label {background-color: #d4ebff;}#sk-container-id-2 input.sk-hidden--visually {border: 0;clip: rect(1px 1px 1px 1px);clip: rect(1px, 1px, 1px, 1px);height: 1px;margin: -1px;overflow: hidden;padding: 0;position: absolute;width: 1px;}#sk-container-id-2 div.sk-estimator {font-family: monospace;background-color: #f0f8ff;border: 1px dotted black;border-radius: 0.25em;box-sizing: border-box;margin-bottom: 0.5em;}#sk-container-id-2 div.sk-estimator:hover {background-color: #d4ebff;}#sk-container-id-2 div.sk-parallel-item::after {content: \"\";width: 100%;border-bottom: 1px solid gray;flex-grow: 1;}#sk-container-id-2 div.sk-label:hover label.sk-toggleable__label {background-color: #d4ebff;}#sk-container-id-2 div.sk-serial::before {content: \"\";position: absolute;border-left: 1px solid gray;box-sizing: border-box;top: 0;bottom: 0;left: 50%;z-index: 0;}#sk-container-id-2 div.sk-serial {display: flex;flex-direction: column;align-items: center;background-color: white;padding-right: 0.2em;padding-left: 0.2em;position: relative;}#sk-container-id-2 div.sk-item {position: relative;z-index: 1;}#sk-container-id-2 div.sk-parallel {display: flex;align-items: stretch;justify-content: center;background-color: white;position: relative;}#sk-container-id-2 div.sk-item::before, #sk-container-id-2 div.sk-parallel-item::before {content: \"\";position: absolute;border-left: 1px solid gray;box-sizing: border-box;top: 0;bottom: 0;left: 50%;z-index: -1;}#sk-container-id-2 div.sk-parallel-item {display: flex;flex-direction: column;z-index: 1;position: relative;background-color: white;}#sk-container-id-2 div.sk-parallel-item:first-child::after {align-self: flex-end;width: 50%;}#sk-container-id-2 div.sk-parallel-item:last-child::after {align-self: flex-start;width: 50%;}#sk-container-id-2 div.sk-parallel-item:only-child::after {width: 0;}#sk-container-id-2 div.sk-dashed-wrapped {border: 1px dashed gray;margin: 0 0.4em 0.5em 0.4em;box-sizing: border-box;padding-bottom: 0.4em;background-color: white;}#sk-container-id-2 div.sk-label label {font-family: monospace;font-weight: bold;display: inline-block;line-height: 1.2em;}#sk-container-id-2 div.sk-label-container {text-align: center;}#sk-container-id-2 div.sk-container {/* jupyter's `normalize.less` sets `[hidden] { display: none; }` but bootstrap.min.css set `[hidden] { display: none !important; }` so we also need the `!important` here to be able to override the default hidden behavior on the sphinx rendered scikit-learn.org. See: https://github.com/scikit-learn/scikit-learn/issues/21755 */display: inline-block !important;position: relative;}#sk-container-id-2 div.sk-text-repr-fallback {display: none;}</style><div id=\"sk-container-id-2\" class=\"sk-top-container\"><div class=\"sk-text-repr-fallback\"><pre>XGBClassifier(base_score=None, booster=None, callbacks=None,\n",
       "              colsample_bylevel=None, colsample_bynode=None,\n",
       "              colsample_bytree=None, device=None, early_stopping_rounds=None,\n",
       "              enable_categorical=False, eval_metric=None, feature_types=None,\n",
       "              gamma=None, grow_policy=None, importance_type=None,\n",
       "              interaction_constraints=None, learning_rate=None, max_bin=None,\n",
       "              max_cat_threshold=None, max_cat_to_onehot=None,\n",
       "              max_delta_step=None, max_depth=None, max_leaves=None,\n",
       "              min_child_weight=None, missing=nan, monotone_constraints=None,\n",
       "              multi_strategy=None, n_estimators=None, n_jobs=None,\n",
       "              num_parallel_tree=None, random_state=42, ...)</pre><b>In a Jupyter environment, please rerun this cell to show the HTML representation or trust the notebook. <br />On GitHub, the HTML representation is unable to render, please try loading this page with nbviewer.org.</b></div><div class=\"sk-container\" hidden><div class=\"sk-item\"><div class=\"sk-estimator sk-toggleable\"><input class=\"sk-toggleable__control sk-hidden--visually\" id=\"sk-estimator-id-2\" type=\"checkbox\" checked><label for=\"sk-estimator-id-2\" class=\"sk-toggleable__label sk-toggleable__label-arrow\">XGBClassifier</label><div class=\"sk-toggleable__content\"><pre>XGBClassifier(base_score=None, booster=None, callbacks=None,\n",
       "              colsample_bylevel=None, colsample_bynode=None,\n",
       "              colsample_bytree=None, device=None, early_stopping_rounds=None,\n",
       "              enable_categorical=False, eval_metric=None, feature_types=None,\n",
       "              gamma=None, grow_policy=None, importance_type=None,\n",
       "              interaction_constraints=None, learning_rate=None, max_bin=None,\n",
       "              max_cat_threshold=None, max_cat_to_onehot=None,\n",
       "              max_delta_step=None, max_depth=None, max_leaves=None,\n",
       "              min_child_weight=None, missing=nan, monotone_constraints=None,\n",
       "              multi_strategy=None, n_estimators=None, n_jobs=None,\n",
       "              num_parallel_tree=None, random_state=42, ...)</pre></div></div></div></div></div>"
      ],
      "text/plain": [
       "XGBClassifier(base_score=None, booster=None, callbacks=None,\n",
       "              colsample_bylevel=None, colsample_bynode=None,\n",
       "              colsample_bytree=None, device=None, early_stopping_rounds=None,\n",
       "              enable_categorical=False, eval_metric=None, feature_types=None,\n",
       "              gamma=None, grow_policy=None, importance_type=None,\n",
       "              interaction_constraints=None, learning_rate=None, max_bin=None,\n",
       "              max_cat_threshold=None, max_cat_to_onehot=None,\n",
       "              max_delta_step=None, max_depth=None, max_leaves=None,\n",
       "              min_child_weight=None, missing=nan, monotone_constraints=None,\n",
       "              multi_strategy=None, n_estimators=None, n_jobs=None,\n",
       "              num_parallel_tree=None, random_state=42, ...)"
      ]
     },
     "execution_count": 43,
     "metadata": {},
     "output_type": "execute_result"
    }
   ],
   "source": [
    "xgb_model.fit(train[predictors], train[\"target\"])"
   ]
  },
  {
   "cell_type": "code",
   "execution_count": 44,
   "id": "f4a4ca61-3af7-49c2-a0d9-43a4decd8ce9",
   "metadata": {
    "tags": []
   },
   "outputs": [],
   "source": [
    "pred_xgb = xgb_model.predict(test[predictors])"
   ]
  },
  {
   "cell_type": "code",
   "execution_count": 45,
   "id": "ff582e64-0493-4b5b-b032-9d1131e5f64f",
   "metadata": {
    "tags": []
   },
   "outputs": [],
   "source": [
    "acc_xgb = accuracy_score(test[\"target\"], pred_xgb)"
   ]
  },
  {
   "cell_type": "code",
   "execution_count": 46,
   "id": "0a462a68-51b7-4d19-88e0-87e9d148df97",
   "metadata": {
    "tags": []
   },
   "outputs": [
    {
     "data": {
      "text/plain": [
       "0.8647"
      ]
     },
     "execution_count": 46,
     "metadata": {},
     "output_type": "execute_result"
    }
   ],
   "source": [
    "round(acc_xgb, 4)"
   ]
  },
  {
   "cell_type": "code",
   "execution_count": 47,
   "id": "a9ff4701-6fc9-42d2-8f7c-bda4064ad59d",
   "metadata": {
    "tags": []
   },
   "outputs": [
    {
     "data": {
      "text/plain": [
       "0.781"
      ]
     },
     "execution_count": 47,
     "metadata": {},
     "output_type": "execute_result"
    }
   ],
   "source": [
    "round(precision_score(test[\"target\"], pred_xgb), 4)"
   ]
  },
  {
   "cell_type": "code",
   "execution_count": 48,
   "id": "99b40d0a-d500-48ef-990e-7b70cc0b169c",
   "metadata": {
    "tags": []
   },
   "outputs": [
    {
     "data": {
      "text/plain": [
       "0.8632"
      ]
     },
     "execution_count": 48,
     "metadata": {},
     "output_type": "execute_result"
    }
   ],
   "source": [
    "round(recall_score(test[\"target\"], pred_xgb), 4)"
   ]
  },
  {
   "cell_type": "code",
   "execution_count": 49,
   "id": "9c4baebe-a37e-46ce-85d1-cde28d19ff6c",
   "metadata": {
    "tags": []
   },
   "outputs": [],
   "source": [
    "combined = pd.DataFrame(dict(actual=test[\"target\"], predicted=pred_xgb))"
   ]
  },
  {
   "cell_type": "code",
   "execution_count": 50,
   "id": "cf13407b-7a61-4d6c-82e3-53102b440b00",
   "metadata": {
    "tags": []
   },
   "outputs": [
    {
     "data": {
      "text/html": [
       "<div>\n",
       "<style scoped>\n",
       "    .dataframe tbody tr th:only-of-type {\n",
       "        vertical-align: middle;\n",
       "    }\n",
       "\n",
       "    .dataframe tbody tr th {\n",
       "        vertical-align: top;\n",
       "    }\n",
       "\n",
       "    .dataframe thead th {\n",
       "        text-align: right;\n",
       "    }\n",
       "</style>\n",
       "<table border=\"1\" class=\"dataframe\">\n",
       "  <thead>\n",
       "    <tr style=\"text-align: right;\">\n",
       "      <th>predicted</th>\n",
       "      <th>0</th>\n",
       "      <th>1</th>\n",
       "    </tr>\n",
       "    <tr>\n",
       "      <th>actual</th>\n",
       "      <th></th>\n",
       "      <th></th>\n",
       "    </tr>\n",
       "  </thead>\n",
       "  <tbody>\n",
       "    <tr>\n",
       "      <th>0</th>\n",
       "      <td>148</td>\n",
       "      <td>23</td>\n",
       "    </tr>\n",
       "    <tr>\n",
       "      <th>1</th>\n",
       "      <td>13</td>\n",
       "      <td>82</td>\n",
       "    </tr>\n",
       "  </tbody>\n",
       "</table>\n",
       "</div>"
      ],
      "text/plain": [
       "predicted    0   1\n",
       "actual            \n",
       "0          148  23\n",
       "1           13  82"
      ]
     },
     "execution_count": 50,
     "metadata": {},
     "output_type": "execute_result"
    }
   ],
   "source": [
    "pd.crosstab(index=combined[\"actual\"], columns=combined[\"predicted\"])"
   ]
  },
  {
   "cell_type": "code",
   "execution_count": 51,
   "id": "a8c24177-1544-4ee0-aad3-cd5b59ac360f",
   "metadata": {
    "tags": []
   },
   "outputs": [],
   "source": [
    "def rolling_averages(group, cols, new_cols):\n",
    "    group = group.sort_values(\"date\")\n",
    "    rolling_stats = group[cols].rolling(3, closed='left').mean()\n",
    "    group[new_cols] = rolling_stats\n",
    "    group = group.dropna(subset=new_cols)\n",
    "    return group"
   ]
  },
  {
   "cell_type": "code",
   "execution_count": 52,
   "id": "bbc6ad86-393a-464a-b339-fb31016f81d7",
   "metadata": {
    "tags": []
   },
   "outputs": [],
   "source": [
    "cols = [\"gf\",\"xg\",\"xga\",\"sh\",\"sot\",\"pk\",\"pkatt\",\"fk\"]\n",
    "new_cols = [f\"{c}_rolling\" for c in cols]"
   ]
  },
  {
   "cell_type": "code",
   "execution_count": 53,
   "id": "e26007e0-da7a-42dd-b8dc-663f4915eaa0",
   "metadata": {
    "tags": []
   },
   "outputs": [],
   "source": [
    "matches_rolling = df.groupby(\"team\").apply(lambda x: rolling_averages(x, cols, new_cols))"
   ]
  },
  {
   "cell_type": "code",
   "execution_count": 54,
   "id": "d28a1857-af01-48af-8ec8-eebc8e5e58bf",
   "metadata": {
    "tags": []
   },
   "outputs": [
    {
     "data": {
      "text/html": [
       "<div>\n",
       "<style scoped>\n",
       "    .dataframe tbody tr th:only-of-type {\n",
       "        vertical-align: middle;\n",
       "    }\n",
       "\n",
       "    .dataframe tbody tr th {\n",
       "        vertical-align: top;\n",
       "    }\n",
       "\n",
       "    .dataframe thead th {\n",
       "        text-align: right;\n",
       "    }\n",
       "</style>\n",
       "<table border=\"1\" class=\"dataframe\">\n",
       "  <thead>\n",
       "    <tr style=\"text-align: right;\">\n",
       "      <th></th>\n",
       "      <th></th>\n",
       "      <th>date</th>\n",
       "      <th>time</th>\n",
       "      <th>round</th>\n",
       "      <th>day</th>\n",
       "      <th>venue</th>\n",
       "      <th>result</th>\n",
       "      <th>gf</th>\n",
       "      <th>ga</th>\n",
       "      <th>opponent</th>\n",
       "      <th>xg</th>\n",
       "      <th>...</th>\n",
       "      <th>hour</th>\n",
       "      <th>day_code</th>\n",
       "      <th>gf_rolling</th>\n",
       "      <th>xg_rolling</th>\n",
       "      <th>xga_rolling</th>\n",
       "      <th>sh_rolling</th>\n",
       "      <th>sot_rolling</th>\n",
       "      <th>pk_rolling</th>\n",
       "      <th>pkatt_rolling</th>\n",
       "      <th>fk_rolling</th>\n",
       "    </tr>\n",
       "    <tr>\n",
       "      <th>team</th>\n",
       "      <th></th>\n",
       "      <th></th>\n",
       "      <th></th>\n",
       "      <th></th>\n",
       "      <th></th>\n",
       "      <th></th>\n",
       "      <th></th>\n",
       "      <th></th>\n",
       "      <th></th>\n",
       "      <th></th>\n",
       "      <th></th>\n",
       "      <th></th>\n",
       "      <th></th>\n",
       "      <th></th>\n",
       "      <th></th>\n",
       "      <th></th>\n",
       "      <th></th>\n",
       "      <th></th>\n",
       "      <th></th>\n",
       "      <th></th>\n",
       "      <th></th>\n",
       "      <th></th>\n",
       "    </tr>\n",
       "  </thead>\n",
       "  <tbody>\n",
       "    <tr>\n",
       "      <th rowspan=\"5\" valign=\"top\">Arsenal</th>\n",
       "      <th>3</th>\n",
       "      <td>2022-08-27</td>\n",
       "      <td>17:30</td>\n",
       "      <td>Matchweek 4</td>\n",
       "      <td>Sat</td>\n",
       "      <td>Home</td>\n",
       "      <td>W</td>\n",
       "      <td>2.0</td>\n",
       "      <td>1.0</td>\n",
       "      <td>Fulham</td>\n",
       "      <td>2.6</td>\n",
       "      <td>...</td>\n",
       "      <td>17</td>\n",
       "      <td>5</td>\n",
       "      <td>3.000000</td>\n",
       "      <td>1.666667</td>\n",
       "      <td>0.666667</td>\n",
       "      <td>14.333333</td>\n",
       "      <td>5.000000</td>\n",
       "      <td>0.000000</td>\n",
       "      <td>0.000000</td>\n",
       "      <td>0.333333</td>\n",
       "    </tr>\n",
       "    <tr>\n",
       "      <th>4</th>\n",
       "      <td>2022-08-31</td>\n",
       "      <td>19:30</td>\n",
       "      <td>Matchweek 5</td>\n",
       "      <td>Wed</td>\n",
       "      <td>Home</td>\n",
       "      <td>W</td>\n",
       "      <td>2.0</td>\n",
       "      <td>1.0</td>\n",
       "      <td>Aston Villa</td>\n",
       "      <td>2.4</td>\n",
       "      <td>...</td>\n",
       "      <td>19</td>\n",
       "      <td>2</td>\n",
       "      <td>3.000000</td>\n",
       "      <td>2.200000</td>\n",
       "      <td>0.533333</td>\n",
       "      <td>18.333333</td>\n",
       "      <td>7.000000</td>\n",
       "      <td>0.000000</td>\n",
       "      <td>0.000000</td>\n",
       "      <td>0.333333</td>\n",
       "    </tr>\n",
       "    <tr>\n",
       "      <th>5</th>\n",
       "      <td>2022-09-04</td>\n",
       "      <td>16:30</td>\n",
       "      <td>Matchweek 6</td>\n",
       "      <td>Sun</td>\n",
       "      <td>Away</td>\n",
       "      <td>L</td>\n",
       "      <td>1.0</td>\n",
       "      <td>3.0</td>\n",
       "      <td>Manchester Utd</td>\n",
       "      <td>1.3</td>\n",
       "      <td>...</td>\n",
       "      <td>16</td>\n",
       "      <td>6</td>\n",
       "      <td>2.333333</td>\n",
       "      <td>2.100000</td>\n",
       "      <td>0.500000</td>\n",
       "      <td>19.333333</td>\n",
       "      <td>7.333333</td>\n",
       "      <td>0.000000</td>\n",
       "      <td>0.000000</td>\n",
       "      <td>0.666667</td>\n",
       "    </tr>\n",
       "    <tr>\n",
       "      <th>7</th>\n",
       "      <td>2022-09-18</td>\n",
       "      <td>12:00</td>\n",
       "      <td>Matchweek 8</td>\n",
       "      <td>Sun</td>\n",
       "      <td>Away</td>\n",
       "      <td>W</td>\n",
       "      <td>3.0</td>\n",
       "      <td>0.0</td>\n",
       "      <td>Brentford</td>\n",
       "      <td>1.5</td>\n",
       "      <td>...</td>\n",
       "      <td>12</td>\n",
       "      <td>6</td>\n",
       "      <td>1.666667</td>\n",
       "      <td>2.100000</td>\n",
       "      <td>0.900000</td>\n",
       "      <td>20.000000</td>\n",
       "      <td>6.333333</td>\n",
       "      <td>0.000000</td>\n",
       "      <td>0.000000</td>\n",
       "      <td>1.000000</td>\n",
       "    </tr>\n",
       "    <tr>\n",
       "      <th>8</th>\n",
       "      <td>2022-10-01</td>\n",
       "      <td>12:30</td>\n",
       "      <td>Matchweek 9</td>\n",
       "      <td>Sat</td>\n",
       "      <td>Home</td>\n",
       "      <td>W</td>\n",
       "      <td>3.0</td>\n",
       "      <td>1.0</td>\n",
       "      <td>Tottenham</td>\n",
       "      <td>2.4</td>\n",
       "      <td>...</td>\n",
       "      <td>12</td>\n",
       "      <td>5</td>\n",
       "      <td>2.000000</td>\n",
       "      <td>1.733333</td>\n",
       "      <td>0.800000</td>\n",
       "      <td>17.000000</td>\n",
       "      <td>6.000000</td>\n",
       "      <td>0.000000</td>\n",
       "      <td>0.000000</td>\n",
       "      <td>0.666667</td>\n",
       "    </tr>\n",
       "    <tr>\n",
       "      <th>...</th>\n",
       "      <th>...</th>\n",
       "      <td>...</td>\n",
       "      <td>...</td>\n",
       "      <td>...</td>\n",
       "      <td>...</td>\n",
       "      <td>...</td>\n",
       "      <td>...</td>\n",
       "      <td>...</td>\n",
       "      <td>...</td>\n",
       "      <td>...</td>\n",
       "      <td>...</td>\n",
       "      <td>...</td>\n",
       "      <td>...</td>\n",
       "      <td>...</td>\n",
       "      <td>...</td>\n",
       "      <td>...</td>\n",
       "      <td>...</td>\n",
       "      <td>...</td>\n",
       "      <td>...</td>\n",
       "      <td>...</td>\n",
       "      <td>...</td>\n",
       "      <td>...</td>\n",
       "    </tr>\n",
       "    <tr>\n",
       "      <th rowspan=\"5\" valign=\"top\">Wolverhampton Wanderers</th>\n",
       "      <th>35</th>\n",
       "      <td>2024-03-30</td>\n",
       "      <td>17:30</td>\n",
       "      <td>Matchweek 30</td>\n",
       "      <td>Sat</td>\n",
       "      <td>Away</td>\n",
       "      <td>L</td>\n",
       "      <td>0.0</td>\n",
       "      <td>2.0</td>\n",
       "      <td>Aston Villa</td>\n",
       "      <td>1.5</td>\n",
       "      <td>...</td>\n",
       "      <td>17</td>\n",
       "      <td>5</td>\n",
       "      <td>1.000000</td>\n",
       "      <td>0.966667</td>\n",
       "      <td>1.766667</td>\n",
       "      <td>11.000000</td>\n",
       "      <td>2.666667</td>\n",
       "      <td>0.000000</td>\n",
       "      <td>0.000000</td>\n",
       "      <td>0.000000</td>\n",
       "    </tr>\n",
       "    <tr>\n",
       "      <th>36</th>\n",
       "      <td>2024-04-02</td>\n",
       "      <td>19:45</td>\n",
       "      <td>Matchweek 31</td>\n",
       "      <td>Tue</td>\n",
       "      <td>Away</td>\n",
       "      <td>D</td>\n",
       "      <td>1.0</td>\n",
       "      <td>1.0</td>\n",
       "      <td>Burnley</td>\n",
       "      <td>0.9</td>\n",
       "      <td>...</td>\n",
       "      <td>19</td>\n",
       "      <td>1</td>\n",
       "      <td>0.666667</td>\n",
       "      <td>1.033333</td>\n",
       "      <td>1.900000</td>\n",
       "      <td>11.000000</td>\n",
       "      <td>3.000000</td>\n",
       "      <td>0.000000</td>\n",
       "      <td>0.000000</td>\n",
       "      <td>0.333333</td>\n",
       "    </tr>\n",
       "    <tr>\n",
       "      <th>37</th>\n",
       "      <td>2024-04-06</td>\n",
       "      <td>15:00</td>\n",
       "      <td>Matchweek 32</td>\n",
       "      <td>Sat</td>\n",
       "      <td>Home</td>\n",
       "      <td>L</td>\n",
       "      <td>1.0</td>\n",
       "      <td>2.0</td>\n",
       "      <td>West Ham</td>\n",
       "      <td>1.5</td>\n",
       "      <td>...</td>\n",
       "      <td>15</td>\n",
       "      <td>5</td>\n",
       "      <td>1.000000</td>\n",
       "      <td>1.066667</td>\n",
       "      <td>1.633333</td>\n",
       "      <td>9.666667</td>\n",
       "      <td>2.666667</td>\n",
       "      <td>0.000000</td>\n",
       "      <td>0.000000</td>\n",
       "      <td>0.333333</td>\n",
       "    </tr>\n",
       "    <tr>\n",
       "      <th>38</th>\n",
       "      <td>2024-04-13</td>\n",
       "      <td>15:00</td>\n",
       "      <td>Matchweek 33</td>\n",
       "      <td>Sat</td>\n",
       "      <td>Away</td>\n",
       "      <td>D</td>\n",
       "      <td>2.0</td>\n",
       "      <td>2.0</td>\n",
       "      <td>Nott'ham Forest</td>\n",
       "      <td>1.0</td>\n",
       "      <td>...</td>\n",
       "      <td>15</td>\n",
       "      <td>5</td>\n",
       "      <td>0.666667</td>\n",
       "      <td>1.300000</td>\n",
       "      <td>1.166667</td>\n",
       "      <td>11.333333</td>\n",
       "      <td>3.666667</td>\n",
       "      <td>0.333333</td>\n",
       "      <td>0.333333</td>\n",
       "      <td>0.666667</td>\n",
       "    </tr>\n",
       "    <tr>\n",
       "      <th>39</th>\n",
       "      <td>2024-04-20</td>\n",
       "      <td>19:30</td>\n",
       "      <td>Matchweek 34</td>\n",
       "      <td>Sat</td>\n",
       "      <td>Home</td>\n",
       "      <td>L</td>\n",
       "      <td>0.0</td>\n",
       "      <td>2.0</td>\n",
       "      <td>Arsenal</td>\n",
       "      <td>0.1</td>\n",
       "      <td>...</td>\n",
       "      <td>19</td>\n",
       "      <td>5</td>\n",
       "      <td>1.333333</td>\n",
       "      <td>1.133333</td>\n",
       "      <td>1.466667</td>\n",
       "      <td>10.666667</td>\n",
       "      <td>3.666667</td>\n",
       "      <td>0.333333</td>\n",
       "      <td>0.333333</td>\n",
       "      <td>0.333333</td>\n",
       "    </tr>\n",
       "  </tbody>\n",
       "</table>\n",
       "<p>1351 rows × 38 columns</p>\n",
       "</div>"
      ],
      "text/plain": [
       "                                 date   time         round  day venue result  \\\n",
       "team                                                                           \n",
       "Arsenal                 3  2022-08-27  17:30   Matchweek 4  Sat  Home      W   \n",
       "                        4  2022-08-31  19:30   Matchweek 5  Wed  Home      W   \n",
       "                        5  2022-09-04  16:30   Matchweek 6  Sun  Away      L   \n",
       "                        7  2022-09-18  12:00   Matchweek 8  Sun  Away      W   \n",
       "                        8  2022-10-01  12:30   Matchweek 9  Sat  Home      W   \n",
       "...                               ...    ...           ...  ...   ...    ...   \n",
       "Wolverhampton Wanderers 35 2024-03-30  17:30  Matchweek 30  Sat  Away      L   \n",
       "                        36 2024-04-02  19:45  Matchweek 31  Tue  Away      D   \n",
       "                        37 2024-04-06  15:00  Matchweek 32  Sat  Home      L   \n",
       "                        38 2024-04-13  15:00  Matchweek 33  Sat  Away      D   \n",
       "                        39 2024-04-20  19:30  Matchweek 34  Sat  Home      L   \n",
       "\n",
       "                             gf   ga         opponent   xg  ...  hour  \\\n",
       "team                                                        ...         \n",
       "Arsenal                 3   2.0  1.0           Fulham  2.6  ...    17   \n",
       "                        4   2.0  1.0      Aston Villa  2.4  ...    19   \n",
       "                        5   1.0  3.0   Manchester Utd  1.3  ...    16   \n",
       "                        7   3.0  0.0        Brentford  1.5  ...    12   \n",
       "                        8   3.0  1.0        Tottenham  2.4  ...    12   \n",
       "...                         ...  ...              ...  ...  ...   ...   \n",
       "Wolverhampton Wanderers 35  0.0  2.0      Aston Villa  1.5  ...    17   \n",
       "                        36  1.0  1.0          Burnley  0.9  ...    19   \n",
       "                        37  1.0  2.0         West Ham  1.5  ...    15   \n",
       "                        38  2.0  2.0  Nott'ham Forest  1.0  ...    15   \n",
       "                        39  0.0  2.0          Arsenal  0.1  ...    19   \n",
       "\n",
       "                            day_code  gf_rolling xg_rolling xga_rolling  \\\n",
       "team                                                                      \n",
       "Arsenal                 3          5    3.000000   1.666667    0.666667   \n",
       "                        4          2    3.000000   2.200000    0.533333   \n",
       "                        5          6    2.333333   2.100000    0.500000   \n",
       "                        7          6    1.666667   2.100000    0.900000   \n",
       "                        8          5    2.000000   1.733333    0.800000   \n",
       "...                              ...         ...        ...         ...   \n",
       "Wolverhampton Wanderers 35         5    1.000000   0.966667    1.766667   \n",
       "                        36         1    0.666667   1.033333    1.900000   \n",
       "                        37         5    1.000000   1.066667    1.633333   \n",
       "                        38         5    0.666667   1.300000    1.166667   \n",
       "                        39         5    1.333333   1.133333    1.466667   \n",
       "\n",
       "                           sh_rolling sot_rolling  pk_rolling  pkatt_rolling  \\\n",
       "team                                                                           \n",
       "Arsenal                 3   14.333333    5.000000    0.000000       0.000000   \n",
       "                        4   18.333333    7.000000    0.000000       0.000000   \n",
       "                        5   19.333333    7.333333    0.000000       0.000000   \n",
       "                        7   20.000000    6.333333    0.000000       0.000000   \n",
       "                        8   17.000000    6.000000    0.000000       0.000000   \n",
       "...                               ...         ...         ...            ...   \n",
       "Wolverhampton Wanderers 35  11.000000    2.666667    0.000000       0.000000   \n",
       "                        36  11.000000    3.000000    0.000000       0.000000   \n",
       "                        37   9.666667    2.666667    0.000000       0.000000   \n",
       "                        38  11.333333    3.666667    0.333333       0.333333   \n",
       "                        39  10.666667    3.666667    0.333333       0.333333   \n",
       "\n",
       "                            fk_rolling  \n",
       "team                                    \n",
       "Arsenal                 3     0.333333  \n",
       "                        4     0.333333  \n",
       "                        5     0.666667  \n",
       "                        7     1.000000  \n",
       "                        8     0.666667  \n",
       "...                                ...  \n",
       "Wolverhampton Wanderers 35    0.000000  \n",
       "                        36    0.333333  \n",
       "                        37    0.333333  \n",
       "                        38    0.666667  \n",
       "                        39    0.333333  \n",
       "\n",
       "[1351 rows x 38 columns]"
      ]
     },
     "execution_count": 54,
     "metadata": {},
     "output_type": "execute_result"
    }
   ],
   "source": [
    "matches_rolling"
   ]
  },
  {
   "cell_type": "code",
   "execution_count": 55,
   "id": "11ca13e5-7392-44b8-84aa-db095e928b44",
   "metadata": {
    "tags": []
   },
   "outputs": [],
   "source": [
    "matches_rolling.index = range(matches_rolling.shape[0])"
   ]
  },
  {
   "cell_type": "code",
   "execution_count": 56,
   "id": "2079291e-c257-4792-9927-6d5127f64912",
   "metadata": {
    "tags": []
   },
   "outputs": [],
   "source": [
    "def make_predictions(data, predictors):\n",
    "    train = data[data[\"date\"] < '2024-01-01']\n",
    "    test = data[data[\"date\"] > '2024-01-01']\n",
    "    rf.fit(train[predictors], train[\"target\"])\n",
    "    pred = rf.predict(test[predictors])\n",
    "    combined = pd.DataFrame(dict(actual=test[\"target\"], predicted=pred), index=test.index)\n",
    "    acc = accuracy_score(test[\"target\"], pred)\n",
    "    return combined, acc"
   ]
  },
  {
   "cell_type": "code",
   "execution_count": 57,
   "id": "0ab84f9a-ed60-4ae9-94a7-4f8cfee552dd",
   "metadata": {
    "tags": []
   },
   "outputs": [],
   "source": [
    "combined, acc = make_predictions(matches_rolling, predictors + new_cols)"
   ]
  },
  {
   "cell_type": "code",
   "execution_count": 58,
   "id": "24546c13-56d8-48ec-bc88-c8ad80796a31",
   "metadata": {
    "tags": []
   },
   "outputs": [
    {
     "data": {
      "text/plain": [
       "0.8684"
      ]
     },
     "execution_count": 58,
     "metadata": {},
     "output_type": "execute_result"
    }
   ],
   "source": [
    "round(acc, 4)"
   ]
  },
  {
   "cell_type": "code",
   "execution_count": 59,
   "id": "fe019761-e8eb-49c6-b448-6e8d5900559b",
   "metadata": {
    "tags": []
   },
   "outputs": [
    {
     "data": {
      "text/plain": [
       "(266, 2)"
      ]
     },
     "execution_count": 59,
     "metadata": {},
     "output_type": "execute_result"
    }
   ],
   "source": [
    "combined.shape"
   ]
  },
  {
   "cell_type": "code",
   "execution_count": 60,
   "id": "850389a4-584a-4c78-ab13-36a135adaa2e",
   "metadata": {
    "tags": []
   },
   "outputs": [
    {
     "data": {
      "text/html": [
       "<div>\n",
       "<style scoped>\n",
       "    .dataframe tbody tr th:only-of-type {\n",
       "        vertical-align: middle;\n",
       "    }\n",
       "\n",
       "    .dataframe tbody tr th {\n",
       "        vertical-align: top;\n",
       "    }\n",
       "\n",
       "    .dataframe thead th {\n",
       "        text-align: right;\n",
       "    }\n",
       "</style>\n",
       "<table border=\"1\" class=\"dataframe\">\n",
       "  <thead>\n",
       "    <tr style=\"text-align: right;\">\n",
       "      <th></th>\n",
       "      <th>actual</th>\n",
       "      <th>predicted</th>\n",
       "    </tr>\n",
       "  </thead>\n",
       "  <tbody>\n",
       "    <tr>\n",
       "      <th>55</th>\n",
       "      <td>1</td>\n",
       "      <td>1</td>\n",
       "    </tr>\n",
       "    <tr>\n",
       "      <th>56</th>\n",
       "      <td>1</td>\n",
       "      <td>1</td>\n",
       "    </tr>\n",
       "    <tr>\n",
       "      <th>57</th>\n",
       "      <td>1</td>\n",
       "      <td>1</td>\n",
       "    </tr>\n",
       "    <tr>\n",
       "      <th>58</th>\n",
       "      <td>1</td>\n",
       "      <td>1</td>\n",
       "    </tr>\n",
       "    <tr>\n",
       "      <th>59</th>\n",
       "      <td>1</td>\n",
       "      <td>1</td>\n",
       "    </tr>\n",
       "    <tr>\n",
       "      <th>...</th>\n",
       "      <td>...</td>\n",
       "      <td>...</td>\n",
       "    </tr>\n",
       "    <tr>\n",
       "      <th>1346</th>\n",
       "      <td>0</td>\n",
       "      <td>0</td>\n",
       "    </tr>\n",
       "    <tr>\n",
       "      <th>1347</th>\n",
       "      <td>0</td>\n",
       "      <td>0</td>\n",
       "    </tr>\n",
       "    <tr>\n",
       "      <th>1348</th>\n",
       "      <td>0</td>\n",
       "      <td>0</td>\n",
       "    </tr>\n",
       "    <tr>\n",
       "      <th>1349</th>\n",
       "      <td>0</td>\n",
       "      <td>0</td>\n",
       "    </tr>\n",
       "    <tr>\n",
       "      <th>1350</th>\n",
       "      <td>0</td>\n",
       "      <td>0</td>\n",
       "    </tr>\n",
       "  </tbody>\n",
       "</table>\n",
       "<p>266 rows × 2 columns</p>\n",
       "</div>"
      ],
      "text/plain": [
       "      actual  predicted\n",
       "55         1          1\n",
       "56         1          1\n",
       "57         1          1\n",
       "58         1          1\n",
       "59         1          1\n",
       "...      ...        ...\n",
       "1346       0          0\n",
       "1347       0          0\n",
       "1348       0          0\n",
       "1349       0          0\n",
       "1350       0          0\n",
       "\n",
       "[266 rows x 2 columns]"
      ]
     },
     "execution_count": 60,
     "metadata": {},
     "output_type": "execute_result"
    }
   ],
   "source": [
    "combined"
   ]
  },
  {
   "cell_type": "code",
   "execution_count": 61,
   "id": "30d97409-e9a8-4825-9442-76ec1cc8d815",
   "metadata": {
    "tags": []
   },
   "outputs": [],
   "source": [
    "combined = combined.merge(matches_rolling[[\"date\", \"team\", \"opponent\",\"result\"]], left_index=True, right_index=True)"
   ]
  },
  {
   "cell_type": "code",
   "execution_count": 62,
   "id": "2e881d48-8055-4816-ae77-1f170e6f539a",
   "metadata": {
    "tags": []
   },
   "outputs": [
    {
     "data": {
      "text/html": [
       "<div>\n",
       "<style scoped>\n",
       "    .dataframe tbody tr th:only-of-type {\n",
       "        vertical-align: middle;\n",
       "    }\n",
       "\n",
       "    .dataframe tbody tr th {\n",
       "        vertical-align: top;\n",
       "    }\n",
       "\n",
       "    .dataframe thead th {\n",
       "        text-align: right;\n",
       "    }\n",
       "</style>\n",
       "<table border=\"1\" class=\"dataframe\">\n",
       "  <thead>\n",
       "    <tr style=\"text-align: right;\">\n",
       "      <th></th>\n",
       "      <th>actual</th>\n",
       "      <th>predicted</th>\n",
       "      <th>date</th>\n",
       "      <th>team</th>\n",
       "      <th>opponent</th>\n",
       "      <th>result</th>\n",
       "    </tr>\n",
       "  </thead>\n",
       "  <tbody>\n",
       "    <tr>\n",
       "      <th>55</th>\n",
       "      <td>1</td>\n",
       "      <td>1</td>\n",
       "      <td>2024-01-20</td>\n",
       "      <td>Arsenal</td>\n",
       "      <td>Crystal Palace</td>\n",
       "      <td>W</td>\n",
       "    </tr>\n",
       "    <tr>\n",
       "      <th>56</th>\n",
       "      <td>1</td>\n",
       "      <td>1</td>\n",
       "      <td>2024-01-30</td>\n",
       "      <td>Arsenal</td>\n",
       "      <td>Nott'ham Forest</td>\n",
       "      <td>W</td>\n",
       "    </tr>\n",
       "    <tr>\n",
       "      <th>57</th>\n",
       "      <td>1</td>\n",
       "      <td>1</td>\n",
       "      <td>2024-02-04</td>\n",
       "      <td>Arsenal</td>\n",
       "      <td>Liverpool</td>\n",
       "      <td>W</td>\n",
       "    </tr>\n",
       "    <tr>\n",
       "      <th>58</th>\n",
       "      <td>1</td>\n",
       "      <td>1</td>\n",
       "      <td>2024-02-11</td>\n",
       "      <td>Arsenal</td>\n",
       "      <td>West Ham</td>\n",
       "      <td>W</td>\n",
       "    </tr>\n",
       "    <tr>\n",
       "      <th>59</th>\n",
       "      <td>1</td>\n",
       "      <td>1</td>\n",
       "      <td>2024-02-17</td>\n",
       "      <td>Arsenal</td>\n",
       "      <td>Burnley</td>\n",
       "      <td>W</td>\n",
       "    </tr>\n",
       "  </tbody>\n",
       "</table>\n",
       "</div>"
      ],
      "text/plain": [
       "    actual  predicted       date     team         opponent result\n",
       "55       1          1 2024-01-20  Arsenal   Crystal Palace      W\n",
       "56       1          1 2024-01-30  Arsenal  Nott'ham Forest      W\n",
       "57       1          1 2024-02-04  Arsenal        Liverpool      W\n",
       "58       1          1 2024-02-11  Arsenal         West Ham      W\n",
       "59       1          1 2024-02-17  Arsenal          Burnley      W"
      ]
     },
     "execution_count": 62,
     "metadata": {},
     "output_type": "execute_result"
    }
   ],
   "source": [
    "combined.head()"
   ]
  },
  {
   "cell_type": "code",
   "execution_count": 63,
   "id": "f2b1a310-04f6-4d5e-b6d5-2448d894dea6",
   "metadata": {
    "tags": []
   },
   "outputs": [],
   "source": [
    "combined.to_csv('res.csv')"
   ]
  },
  {
   "cell_type": "code",
   "execution_count": null,
   "id": "ca17564a-f6ea-4457-af5e-6b8c88cfe794",
   "metadata": {},
   "outputs": [],
   "source": []
  }
 ],
 "metadata": {
  "kernelspec": {
   "display_name": "Python 3 (ipykernel)",
   "language": "python",
   "name": "python3"
  },
  "language_info": {
   "codemirror_mode": {
    "name": "ipython",
    "version": 3
   },
   "file_extension": ".py",
   "mimetype": "text/x-python",
   "name": "python",
   "nbconvert_exporter": "python",
   "pygments_lexer": "ipython3",
   "version": "3.11.5"
  }
 },
 "nbformat": 4,
 "nbformat_minor": 5
}
